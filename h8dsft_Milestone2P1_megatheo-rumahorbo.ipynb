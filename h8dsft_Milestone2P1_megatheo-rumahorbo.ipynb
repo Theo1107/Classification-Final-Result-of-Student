{
 "cells": [
  {
   "cell_type": "markdown",
   "metadata": {},
   "source": [
    "# 1 - Perkenalan\n",
    "\n",
    "Megatheo Justino Rumahorbo \n",
    "\n",
    "FTDS Batch 11 Phase 1\n",
    "\n",
    "Dataset : Open University Learning Analytics \n",
    "\n",
    "Data diambil dari UCI Machine Learning Repository\n",
    "- https://archive.ics.uci.edu/ml/datasets/Open+University+Learning+Analytics+dataset\n",
    "\n",
    "Data ini merepresentasikan info data student berdasarkan demograpic mereka yang mempengaruhi kelulusan dari student\n",
    "\n",
    "Objective :\n",
    "- Membuat model Classification untuk memprediksi student lulus dari module.\n",
    "- Insight dari data\n",
    "\n",
    "Data Desc:\n",
    "\n",
    "- code_module – an identification code for a module on which the student is registered.\n",
    "- code_presentation - the identification code of the presentation during which the student is registered on the module.\n",
    "- id_student – a unique identification number for the student.\n",
    "- gender – the student’s gender.\n",
    "- region – identifies the geographic region, where the student lived while taking the module-presentation.\n",
    "- highest_education – highest student education level on entry to the module presentation.\n",
    "- imd_band – specifies the Index of Multiple Depravation band of the place where the student lived during the module-presentation.\n",
    "- age_band – band of the student’s age.\n",
    "- num_of_prev_attempts – the number times the student has attempted this module.\n",
    "- studied_credits – the total number of credits for the modules the student is currently studying.\n",
    "- disability – indicates whether the student has declared a disability.\n",
    "- final_result – student’s final result in the module-presentation."
   ]
  },
  {
   "cell_type": "markdown",
   "metadata": {},
   "source": [
    "# 2 - Import Libraries"
   ]
  },
  {
   "cell_type": "code",
   "execution_count": 1,
   "metadata": {},
   "outputs": [],
   "source": [
    "import pandas as pd\n",
    "import numpy as np\n",
    "import matplotlib.pyplot as plt\n",
    "import seaborn as sns\n",
    "import pickle\n",
    "\n",
    "from sklearn.preprocessing import OneHotEncoder, OrdinalEncoder, MinMaxScaler\n",
    "from sklearn.compose import make_column_transformer\n",
    "from sklearn.model_selection import train_test_split\n",
    "\n",
    "from sklearn.tree import DecisionTreeClassifier\n",
    "from sklearn.svm import SVC\n",
    "from sklearn.ensemble import RandomForestClassifier, AdaBoostClassifier\n",
    "\n",
    "from sklearn.metrics import confusion_matrix, classification_report,ConfusionMatrixDisplay, make_scorer, recall_score\n",
    "from sklearn.pipeline import Pipeline\n",
    "from sklearn.model_selection import cross_val_score, GridSearchCV\n",
    "\n",
    "\n",
    "\n"
   ]
  },
  {
   "cell_type": "markdown",
   "metadata": {},
   "source": [
    "# 3 - Data Loading"
   ]
  },
  {
   "cell_type": "code",
   "execution_count": 2,
   "metadata": {},
   "outputs": [
    {
     "data": {
      "text/html": [
       "<div>\n",
       "<style scoped>\n",
       "    .dataframe tbody tr th:only-of-type {\n",
       "        vertical-align: middle;\n",
       "    }\n",
       "\n",
       "    .dataframe tbody tr th {\n",
       "        vertical-align: top;\n",
       "    }\n",
       "\n",
       "    .dataframe thead th {\n",
       "        text-align: right;\n",
       "    }\n",
       "</style>\n",
       "<table border=\"1\" class=\"dataframe\">\n",
       "  <thead>\n",
       "    <tr style=\"text-align: right;\">\n",
       "      <th></th>\n",
       "      <th>code_module</th>\n",
       "      <th>code_presentation</th>\n",
       "      <th>id_student</th>\n",
       "      <th>gender</th>\n",
       "      <th>region</th>\n",
       "      <th>highest_education</th>\n",
       "      <th>imd_band</th>\n",
       "      <th>age_band</th>\n",
       "      <th>num_of_prev_attempts</th>\n",
       "      <th>studied_credits</th>\n",
       "      <th>disability</th>\n",
       "      <th>final_result</th>\n",
       "    </tr>\n",
       "  </thead>\n",
       "  <tbody>\n",
       "    <tr>\n",
       "      <th>0</th>\n",
       "      <td>AAA</td>\n",
       "      <td>2013J</td>\n",
       "      <td>11391</td>\n",
       "      <td>M</td>\n",
       "      <td>East Anglian Region</td>\n",
       "      <td>HE Qualification</td>\n",
       "      <td>90-100%</td>\n",
       "      <td>55&lt;=</td>\n",
       "      <td>0</td>\n",
       "      <td>240</td>\n",
       "      <td>N</td>\n",
       "      <td>Pass</td>\n",
       "    </tr>\n",
       "    <tr>\n",
       "      <th>1</th>\n",
       "      <td>AAA</td>\n",
       "      <td>2013J</td>\n",
       "      <td>28400</td>\n",
       "      <td>F</td>\n",
       "      <td>Scotland</td>\n",
       "      <td>HE Qualification</td>\n",
       "      <td>20-30%</td>\n",
       "      <td>35-55</td>\n",
       "      <td>0</td>\n",
       "      <td>60</td>\n",
       "      <td>N</td>\n",
       "      <td>Pass</td>\n",
       "    </tr>\n",
       "    <tr>\n",
       "      <th>2</th>\n",
       "      <td>AAA</td>\n",
       "      <td>2013J</td>\n",
       "      <td>30268</td>\n",
       "      <td>F</td>\n",
       "      <td>North Western Region</td>\n",
       "      <td>A Level or Equivalent</td>\n",
       "      <td>30-40%</td>\n",
       "      <td>35-55</td>\n",
       "      <td>0</td>\n",
       "      <td>60</td>\n",
       "      <td>Y</td>\n",
       "      <td>Withdrawn</td>\n",
       "    </tr>\n",
       "    <tr>\n",
       "      <th>3</th>\n",
       "      <td>AAA</td>\n",
       "      <td>2013J</td>\n",
       "      <td>31604</td>\n",
       "      <td>F</td>\n",
       "      <td>South East Region</td>\n",
       "      <td>A Level or Equivalent</td>\n",
       "      <td>50-60%</td>\n",
       "      <td>35-55</td>\n",
       "      <td>0</td>\n",
       "      <td>60</td>\n",
       "      <td>N</td>\n",
       "      <td>Pass</td>\n",
       "    </tr>\n",
       "    <tr>\n",
       "      <th>4</th>\n",
       "      <td>AAA</td>\n",
       "      <td>2013J</td>\n",
       "      <td>32885</td>\n",
       "      <td>F</td>\n",
       "      <td>West Midlands Region</td>\n",
       "      <td>Lower Than A Level</td>\n",
       "      <td>50-60%</td>\n",
       "      <td>0-35</td>\n",
       "      <td>0</td>\n",
       "      <td>60</td>\n",
       "      <td>N</td>\n",
       "      <td>Pass</td>\n",
       "    </tr>\n",
       "  </tbody>\n",
       "</table>\n",
       "</div>"
      ],
      "text/plain": [
       "  code_module code_presentation  id_student gender                region  \\\n",
       "0         AAA             2013J       11391      M   East Anglian Region   \n",
       "1         AAA             2013J       28400      F              Scotland   \n",
       "2         AAA             2013J       30268      F  North Western Region   \n",
       "3         AAA             2013J       31604      F     South East Region   \n",
       "4         AAA             2013J       32885      F  West Midlands Region   \n",
       "\n",
       "       highest_education imd_band age_band  num_of_prev_attempts  \\\n",
       "0       HE Qualification  90-100%     55<=                     0   \n",
       "1       HE Qualification   20-30%    35-55                     0   \n",
       "2  A Level or Equivalent   30-40%    35-55                     0   \n",
       "3  A Level or Equivalent   50-60%    35-55                     0   \n",
       "4     Lower Than A Level   50-60%     0-35                     0   \n",
       "\n",
       "   studied_credits disability final_result  \n",
       "0              240          N         Pass  \n",
       "1               60          N         Pass  \n",
       "2               60          Y    Withdrawn  \n",
       "3               60          N         Pass  \n",
       "4               60          N         Pass  "
      ]
     },
     "execution_count": 2,
     "metadata": {},
     "output_type": "execute_result"
    }
   ],
   "source": [
    "# Load Data\n",
    "data = pd.read_csv('studentInfo.csv')\n",
    "data.head()"
   ]
  },
  {
   "cell_type": "markdown",
   "metadata": {},
   "source": [
    "Colom yang akan menjadi target kita adalah kolom **final_result** sebelum itu mari kita cek nilai dari kolom tersebut"
   ]
  },
  {
   "cell_type": "code",
   "execution_count": 3,
   "metadata": {},
   "outputs": [
    {
     "data": {
      "text/plain": [
       "array(['Pass', 'Withdrawn', 'Fail', 'Distinction'], dtype=object)"
      ]
     },
     "execution_count": 3,
     "metadata": {},
     "output_type": "execute_result"
    }
   ],
   "source": [
    "# Check target unique values\n",
    "data['final_result'].unique()"
   ]
  },
  {
   "cell_type": "markdown",
   "metadata": {},
   "source": [
    "Terdapat 4 class pada column tersebut, untuk itu kita akan memilih hanya 2 class dari data tersebut karena kita hanya akan memprediksi apakah student lulus atau tidak."
   ]
  },
  {
   "cell_type": "code",
   "execution_count": 4,
   "metadata": {},
   "outputs": [],
   "source": [
    "# filter data\n",
    "df = data[(data['final_result'] == 'Pass') |\n",
    "    (data['final_result'] == 'Fail')]\n",
    "\n",
    "# reset index\n",
    "df.reset_index(drop=True, inplace=True)"
   ]
  },
  {
   "cell_type": "code",
   "execution_count": 5,
   "metadata": {},
   "outputs": [
    {
     "name": "stdout",
     "output_type": "stream",
     "text": [
      "code_module : Empty DataFrame\n",
      "Columns: [code_module, code_presentation, id_student, gender, region, highest_education, imd_band, age_band, num_of_prev_attempts, studied_credits, disability, final_result]\n",
      "Index: []\n",
      "============================================================\n",
      "code_presentation : Empty DataFrame\n",
      "Columns: [code_module, code_presentation, id_student, gender, region, highest_education, imd_band, age_band, num_of_prev_attempts, studied_credits, disability, final_result]\n",
      "Index: []\n",
      "============================================================\n",
      "id_student : Empty DataFrame\n",
      "Columns: [code_module, code_presentation, id_student, gender, region, highest_education, imd_band, age_band, num_of_prev_attempts, studied_credits, disability, final_result]\n",
      "Index: []\n",
      "============================================================\n",
      "gender : Empty DataFrame\n",
      "Columns: [code_module, code_presentation, id_student, gender, region, highest_education, imd_band, age_band, num_of_prev_attempts, studied_credits, disability, final_result]\n",
      "Index: []\n",
      "============================================================\n",
      "region : Empty DataFrame\n",
      "Columns: [code_module, code_presentation, id_student, gender, region, highest_education, imd_band, age_band, num_of_prev_attempts, studied_credits, disability, final_result]\n",
      "Index: []\n",
      "============================================================\n",
      "highest_education : Empty DataFrame\n",
      "Columns: [code_module, code_presentation, id_student, gender, region, highest_education, imd_band, age_band, num_of_prev_attempts, studied_credits, disability, final_result]\n",
      "Index: []\n",
      "============================================================\n",
      "imd_band :       code_module code_presentation  id_student gender                region  \\\n",
      "8             AAA             2013J       53025      M          North Region   \n",
      "15            AAA             2013J       71361      M               Ireland   \n",
      "25            AAA             2013J      104476      M               Ireland   \n",
      "30            AAA             2013J      114017      F          North Region   \n",
      "52            AAA             2013J      172112      M               Ireland   \n",
      "...           ...               ...         ...    ...                   ...   \n",
      "17570         GGG             2013J       62975      M          South Region   \n",
      "17853         GGG             2013J      584195      M          North Region   \n",
      "17954         GGG             2013J      589914      M          North Region   \n",
      "18427         GGG             2014B      575199      F  North Western Region   \n",
      "18597         GGG             2014B      617889      F     South West Region   \n",
      "\n",
      "                 highest_education imd_band age_band  num_of_prev_attempts  \\\n",
      "8      Post Graduate Qualification        ?     55<=                     0   \n",
      "15                HE Qualification        ?    35-55                     0   \n",
      "25     Post Graduate Qualification        ?    35-55                     0   \n",
      "30     Post Graduate Qualification        ?    35-55                     0   \n",
      "52                HE Qualification        ?    35-55                     0   \n",
      "...                            ...      ...      ...                   ...   \n",
      "17570           Lower Than A Level        ?    35-55                     0   \n",
      "17853           Lower Than A Level        ?     0-35                     0   \n",
      "17954           Lower Than A Level        ?     0-35                     0   \n",
      "18427           Lower Than A Level        ?     0-35                     0   \n",
      "18597           Lower Than A Level        ?     0-35                     0   \n",
      "\n",
      "       studied_credits disability final_result  \n",
      "8                   60          N         Pass  \n",
      "15                  60          N         Pass  \n",
      "25                  60          N         Pass  \n",
      "30                  60          N         Pass  \n",
      "52                  60          N         Pass  \n",
      "...                ...        ...          ...  \n",
      "17570               30          N         Fail  \n",
      "17853               30          N         Pass  \n",
      "17954               30          N         Pass  \n",
      "18427               30          N         Pass  \n",
      "18597               30          N         Fail  \n",
      "\n",
      "[676 rows x 12 columns]\n",
      "============================================================\n",
      "age_band : Empty DataFrame\n",
      "Columns: [code_module, code_presentation, id_student, gender, region, highest_education, imd_band, age_band, num_of_prev_attempts, studied_credits, disability, final_result]\n",
      "Index: []\n",
      "============================================================\n",
      "num_of_prev_attempts : Empty DataFrame\n",
      "Columns: [code_module, code_presentation, id_student, gender, region, highest_education, imd_band, age_band, num_of_prev_attempts, studied_credits, disability, final_result]\n",
      "Index: []\n",
      "============================================================\n",
      "studied_credits : Empty DataFrame\n",
      "Columns: [code_module, code_presentation, id_student, gender, region, highest_education, imd_band, age_band, num_of_prev_attempts, studied_credits, disability, final_result]\n",
      "Index: []\n",
      "============================================================\n",
      "disability : Empty DataFrame\n",
      "Columns: [code_module, code_presentation, id_student, gender, region, highest_education, imd_band, age_band, num_of_prev_attempts, studied_credits, disability, final_result]\n",
      "Index: []\n",
      "============================================================\n",
      "final_result : Empty DataFrame\n",
      "Columns: [code_module, code_presentation, id_student, gender, region, highest_education, imd_band, age_band, num_of_prev_attempts, studied_credits, disability, final_result]\n",
      "Index: []\n",
      "============================================================\n"
     ]
    }
   ],
   "source": [
    "for i in df:    \n",
    "    print(i, ':', df[df[i] == '?'])\n",
    "    print('============================================================')"
   ]
  },
  {
   "cell_type": "code",
   "execution_count": 6,
   "metadata": {},
   "outputs": [
    {
     "name": "stdout",
     "output_type": "stream",
     "text": [
      "676\n",
      "3.4822026477102974\n"
     ]
    }
   ],
   "source": [
    "# Detect Outliers\n",
    "outliers = df[df['imd_band'] == '?']\n",
    "print(len(outliers))\n",
    "print(len(outliers)/len(df)*100)\n"
   ]
  },
  {
   "cell_type": "code",
   "execution_count": 7,
   "metadata": {},
   "outputs": [
    {
     "name": "stderr",
     "output_type": "stream",
     "text": [
      "C:\\Users\\mjrum\\AppData\\Local\\Temp\\ipykernel_9548\\3427843545.py:2: SettingWithCopyWarning: \n",
      "A value is trying to be set on a copy of a slice from a DataFrame\n",
      "\n",
      "See the caveats in the documentation: https://pandas.pydata.org/pandas-docs/stable/user_guide/indexing.html#returning-a-view-versus-a-copy\n",
      "  df.drop(outliers.index, inplace=True)\n"
     ]
    }
   ],
   "source": [
    "# Drop Outliers_train\n",
    "df.drop(outliers.index, inplace=True)"
   ]
  },
  {
   "cell_type": "code",
   "execution_count": 8,
   "metadata": {},
   "outputs": [
    {
     "name": "stdout",
     "output_type": "stream",
     "text": [
      "<class 'pandas.core.frame.DataFrame'>\n",
      "Int64Index: 18737 entries, 0 to 19412\n",
      "Data columns (total 12 columns):\n",
      " #   Column                Non-Null Count  Dtype \n",
      "---  ------                --------------  ----- \n",
      " 0   code_module           18737 non-null  object\n",
      " 1   code_presentation     18737 non-null  object\n",
      " 2   id_student            18737 non-null  int64 \n",
      " 3   gender                18737 non-null  object\n",
      " 4   region                18737 non-null  object\n",
      " 5   highest_education     18737 non-null  object\n",
      " 6   imd_band              18737 non-null  object\n",
      " 7   age_band              18737 non-null  object\n",
      " 8   num_of_prev_attempts  18737 non-null  int64 \n",
      " 9   studied_credits       18737 non-null  int64 \n",
      " 10  disability            18737 non-null  object\n",
      " 11  final_result          18737 non-null  object\n",
      "dtypes: int64(3), object(9)\n",
      "memory usage: 1.9+ MB\n"
     ]
    }
   ],
   "source": [
    "# Check Info\n",
    "df.info()"
   ]
  },
  {
   "cell_type": "markdown",
   "metadata": {},
   "source": [
    "Setelah kita memilih target kita , kita bisa melihat bahwa terdapat 19413 baris dan 11 kolom . Semua attribut adalah object kecuali kolom **id_student**, **num_of_prev_attempts**, dan **studied_credits**. Terlihat juga bahwa semua colum terisi sesui dengan banyaknya baris yang mengindikasi tidak ada Missing Values. \n",
    "\n",
    "Notice pada kolom age_band yang seharusnya angka namun merupakan data categoric. Kita akan cek unique values pada kolom tersebut."
   ]
  },
  {
   "cell_type": "code",
   "execution_count": 9,
   "metadata": {},
   "outputs": [
    {
     "data": {
      "text/plain": [
       "array(['55<=', '35-55', '0-35'], dtype=object)"
      ]
     },
     "execution_count": 9,
     "metadata": {},
     "output_type": "execute_result"
    }
   ],
   "source": [
    "# Check Unique Values\n",
    "df['age_band'].unique()"
   ]
  },
  {
   "cell_type": "markdown",
   "metadata": {},
   "source": [
    "Ternyata data ini merepresentasikan umur siswa dalam bentuk categoric dengan 3 level scala yaitu **0-35**, **35-55**, dan **55<=**.\n",
    "\n",
    "Mari kita lihat Kolom yang numerical."
   ]
  },
  {
   "cell_type": "code",
   "execution_count": 10,
   "metadata": {},
   "outputs": [
    {
     "data": {
      "text/html": [
       "<div>\n",
       "<style scoped>\n",
       "    .dataframe tbody tr th:only-of-type {\n",
       "        vertical-align: middle;\n",
       "    }\n",
       "\n",
       "    .dataframe tbody tr th {\n",
       "        vertical-align: top;\n",
       "    }\n",
       "\n",
       "    .dataframe thead th {\n",
       "        text-align: right;\n",
       "    }\n",
       "</style>\n",
       "<table border=\"1\" class=\"dataframe\">\n",
       "  <thead>\n",
       "    <tr style=\"text-align: right;\">\n",
       "      <th></th>\n",
       "      <th>id_student</th>\n",
       "      <th>num_of_prev_attempts</th>\n",
       "      <th>studied_credits</th>\n",
       "    </tr>\n",
       "  </thead>\n",
       "  <tbody>\n",
       "    <tr>\n",
       "      <th>count</th>\n",
       "      <td>1.873700e+04</td>\n",
       "      <td>18737.000000</td>\n",
       "      <td>18737.000000</td>\n",
       "    </tr>\n",
       "    <tr>\n",
       "      <th>mean</th>\n",
       "      <td>6.982824e+05</td>\n",
       "      <td>0.167583</td>\n",
       "      <td>74.852164</td>\n",
       "    </tr>\n",
       "    <tr>\n",
       "      <th>std</th>\n",
       "      <td>5.461321e+05</td>\n",
       "      <td>0.485584</td>\n",
       "      <td>37.190253</td>\n",
       "    </tr>\n",
       "    <tr>\n",
       "      <th>min</th>\n",
       "      <td>6.516000e+03</td>\n",
       "      <td>0.000000</td>\n",
       "      <td>30.000000</td>\n",
       "    </tr>\n",
       "    <tr>\n",
       "      <th>25%</th>\n",
       "      <td>5.027630e+05</td>\n",
       "      <td>0.000000</td>\n",
       "      <td>60.000000</td>\n",
       "    </tr>\n",
       "    <tr>\n",
       "      <th>50%</th>\n",
       "      <td>5.865500e+05</td>\n",
       "      <td>0.000000</td>\n",
       "      <td>60.000000</td>\n",
       "    </tr>\n",
       "    <tr>\n",
       "      <th>75%</th>\n",
       "      <td>6.348240e+05</td>\n",
       "      <td>0.000000</td>\n",
       "      <td>90.000000</td>\n",
       "    </tr>\n",
       "    <tr>\n",
       "      <th>max</th>\n",
       "      <td>2.710343e+06</td>\n",
       "      <td>6.000000</td>\n",
       "      <td>630.000000</td>\n",
       "    </tr>\n",
       "  </tbody>\n",
       "</table>\n",
       "</div>"
      ],
      "text/plain": [
       "         id_student  num_of_prev_attempts  studied_credits\n",
       "count  1.873700e+04          18737.000000     18737.000000\n",
       "mean   6.982824e+05              0.167583        74.852164\n",
       "std    5.461321e+05              0.485584        37.190253\n",
       "min    6.516000e+03              0.000000        30.000000\n",
       "25%    5.027630e+05              0.000000        60.000000\n",
       "50%    5.865500e+05              0.000000        60.000000\n",
       "75%    6.348240e+05              0.000000        90.000000\n",
       "max    2.710343e+06              6.000000       630.000000"
      ]
     },
     "execution_count": 10,
     "metadata": {},
     "output_type": "execute_result"
    }
   ],
   "source": [
    "# Check Numerical Data\n",
    "df.describe()"
   ]
  },
  {
   "cell_type": "markdown",
   "metadata": {},
   "source": [
    "id_student, mungkin berfungsi sebagai index, karena pada dasarnya setiap student pasti berbeda idnya\n",
    "\n",
    "number_of_prev_attempts, terlihat dari 25%, 50%, dan 75% quartile bernilai 0 dimana bisa diasumsikan student baru pertama kali mengikuti module namun terdappat juga student yang sudah 6 kali mengambil modul tertentu terlihat dari nilai maxnya\n",
    "\n",
    "studied_credits, student memiliki rata-rata 74 credit , yang dangat jauh dari student yang memiliki credits tertinggi yaitu 630.\n",
    "\n",
    "Mari kita cek apakah terdapat baris yang terduplikat pada data ini."
   ]
  },
  {
   "cell_type": "code",
   "execution_count": 11,
   "metadata": {},
   "outputs": [
    {
     "data": {
      "text/plain": [
       "0"
      ]
     },
     "execution_count": 11,
     "metadata": {},
     "output_type": "execute_result"
    }
   ],
   "source": [
    "# Cek Duplicate\n",
    "df.duplicated().sum()"
   ]
  },
  {
   "cell_type": "markdown",
   "metadata": {},
   "source": [
    "Tidak terdapat baris yang terduplikat, terkahir kita tidak akan menggunakan kolom **id_student** karena berfungsi sebagai index"
   ]
  },
  {
   "cell_type": "code",
   "execution_count": 12,
   "metadata": {},
   "outputs": [
    {
     "name": "stderr",
     "output_type": "stream",
     "text": [
      "C:\\Users\\mjrum\\AppData\\Local\\Temp\\ipykernel_9548\\577864619.py:1: SettingWithCopyWarning: \n",
      "A value is trying to be set on a copy of a slice from a DataFrame\n",
      "\n",
      "See the caveats in the documentation: https://pandas.pydata.org/pandas-docs/stable/user_guide/indexing.html#returning-a-view-versus-a-copy\n",
      "  df.drop(columns='id_student', inplace=True)\n"
     ]
    }
   ],
   "source": [
    "df.drop(columns='id_student', inplace=True)"
   ]
  },
  {
   "cell_type": "markdown",
   "metadata": {},
   "source": [
    "# 4 - EDA"
   ]
  },
  {
   "cell_type": "markdown",
   "metadata": {},
   "source": [
    "Karena target kita adalah kolom **final_result**  kita akan melihat berapa banyak student yang lulus dan yang tidak"
   ]
  },
  {
   "cell_type": "code",
   "execution_count": 13,
   "metadata": {},
   "outputs": [
    {
     "name": "stdout",
     "output_type": "stream",
     "text": [
      "Pass    11830\n",
      "Fail     6907\n",
      "Name: final_result, dtype: int64\n"
     ]
    },
    {
     "data": {
      "image/png": "[encoded data removed]",
      "text/plain": [
       "<Figure size 1440x720 with 1 Axes>"
      ]
     },
     "metadata": {},
     "output_type": "display_data"
    }
   ],
   "source": [
    "# filter data\n",
    "final_result = df['final_result'].value_counts()\n",
    "print(final_result)\n",
    "# plot data\n",
    "plt.figure(figsize=(20,10))\n",
    "\n",
    "colors = sns.color_palette('pastel')[0:5]\n",
    "plt.pie(final_result, labels=final_result.index, colors=colors, autopct='%1.1f%%')\n",
    "plt.title('Final Result')\n",
    "plt.legend(final_result.index, loc='upper left')\n",
    "plt.show()"
   ]
  },
  {
   "cell_type": "markdown",
   "metadata": {},
   "source": [
    "Terlihat perbedaan yang lumayan signifikan antara student yang lulus dengan yang tidak dimana student yang lulus ada 63,7% dan student yang tidak lulus terdapat 36,3%. \n",
    "\n",
    "Mari kita liat bagaimana data disetiap kolom."
   ]
  },
  {
   "cell_type": "markdown",
   "metadata": {},
   "source": [
    "## Univariate analysis: numerical data"
   ]
  },
  {
   "cell_type": "code",
   "execution_count": 14,
   "metadata": {},
   "outputs": [
    {
     "name": "stdout",
     "output_type": "stream",
     "text": [
      "\tSummary for NUM_OF_PREV_ATTEMPTS\n",
      "Skewness of num_of_prev_attempts\t: 3.7104249284886763\n",
      "Mean num_of_prev_attempts :\t 0.1675828574478305\n",
      "Median num_of_prev_attempts :\t 0.0 \n",
      "\n",
      "\tSummary for STUDIED_CREDITS\n",
      "Skewness of studied_credits\t: 1.8001567696727703\n",
      "Mean studied_credits :\t 74.85216416715589\n",
      "Median studied_credits :\t 60.0 \n",
      "\n"
     ]
    }
   ],
   "source": [
    "# Create statistics summaries with skew, mean, and median\n",
    "# Produce a dataframe with just numerical columns\n",
    "df_num = df.select_dtypes(include=np.number)\n",
    "\n",
    "for col in df_num.columns:\n",
    "\n",
    "    skew = df_num[col].skew()\n",
    "    mean = df_num[col].mean()\n",
    "    median = df_num[col].median()\n",
    "    \n",
    "    print(f'\\tSummary for {col.upper()}')\n",
    "    print(f'Skewness of {col}\\t: {skew}')\n",
    "    print(f'Mean {col} :\\t {mean}')\n",
    "    print(f'Median {col} :\\t {median} \\n')"
   ]
  },
  {
   "cell_type": "code",
   "execution_count": 15,
   "metadata": {},
   "outputs": [
    {
     "data": {
      "image/png": "[encoded data removed]",
      "text/plain": [
       "<Figure size 1440x1080 with 2 Axes>"
      ]
     },
     "metadata": {
      "needs_background": "light"
     },
     "output_type": "display_data"
    }
   ],
   "source": [
    "df.hist(bins=50, figsize=(20,15))\n",
    "plt.show()"
   ]
  },
  {
   "cell_type": "markdown",
   "metadata": {},
   "source": [
    "Untuk kolom numerik ternyata berdistribusi skew terlihatt data berkumpul disebelah kiri. Mayoritas student juga merupakan student yang baru pertama kali mengambil module yang mereka ambil . Credit student mayoritas juga berada pada range 0 - 200."
   ]
  },
  {
   "cell_type": "markdown",
   "metadata": {},
   "source": [
    "## Univariate analysis: categorical data"
   ]
  },
  {
   "cell_type": "code",
   "execution_count": 16,
   "metadata": {},
   "outputs": [
    {
     "data": {
      "text/html": [
       "<div>\n",
       "<style scoped>\n",
       "    .dataframe tbody tr th:only-of-type {\n",
       "        vertical-align: middle;\n",
       "    }\n",
       "\n",
       "    .dataframe tbody tr th {\n",
       "        vertical-align: top;\n",
       "    }\n",
       "\n",
       "    .dataframe thead th {\n",
       "        text-align: right;\n",
       "    }\n",
       "</style>\n",
       "<table border=\"1\" class=\"dataframe\">\n",
       "  <thead>\n",
       "    <tr style=\"text-align: right;\">\n",
       "      <th></th>\n",
       "      <th>code_module</th>\n",
       "      <th>code_presentation</th>\n",
       "      <th>gender</th>\n",
       "      <th>region</th>\n",
       "      <th>highest_education</th>\n",
       "      <th>imd_band</th>\n",
       "      <th>age_band</th>\n",
       "      <th>disability</th>\n",
       "      <th>final_result</th>\n",
       "    </tr>\n",
       "  </thead>\n",
       "  <tbody>\n",
       "    <tr>\n",
       "      <th>0</th>\n",
       "      <td>AAA</td>\n",
       "      <td>2013J</td>\n",
       "      <td>M</td>\n",
       "      <td>East Anglian Region</td>\n",
       "      <td>HE Qualification</td>\n",
       "      <td>90-100%</td>\n",
       "      <td>55&lt;=</td>\n",
       "      <td>N</td>\n",
       "      <td>Pass</td>\n",
       "    </tr>\n",
       "    <tr>\n",
       "      <th>1</th>\n",
       "      <td>AAA</td>\n",
       "      <td>2013J</td>\n",
       "      <td>F</td>\n",
       "      <td>Scotland</td>\n",
       "      <td>HE Qualification</td>\n",
       "      <td>20-30%</td>\n",
       "      <td>35-55</td>\n",
       "      <td>N</td>\n",
       "      <td>Pass</td>\n",
       "    </tr>\n",
       "    <tr>\n",
       "      <th>2</th>\n",
       "      <td>AAA</td>\n",
       "      <td>2013J</td>\n",
       "      <td>F</td>\n",
       "      <td>South East Region</td>\n",
       "      <td>A Level or Equivalent</td>\n",
       "      <td>50-60%</td>\n",
       "      <td>35-55</td>\n",
       "      <td>N</td>\n",
       "      <td>Pass</td>\n",
       "    </tr>\n",
       "    <tr>\n",
       "      <th>3</th>\n",
       "      <td>AAA</td>\n",
       "      <td>2013J</td>\n",
       "      <td>F</td>\n",
       "      <td>West Midlands Region</td>\n",
       "      <td>Lower Than A Level</td>\n",
       "      <td>50-60%</td>\n",
       "      <td>0-35</td>\n",
       "      <td>N</td>\n",
       "      <td>Pass</td>\n",
       "    </tr>\n",
       "    <tr>\n",
       "      <th>4</th>\n",
       "      <td>AAA</td>\n",
       "      <td>2013J</td>\n",
       "      <td>M</td>\n",
       "      <td>Wales</td>\n",
       "      <td>A Level or Equivalent</td>\n",
       "      <td>80-90%</td>\n",
       "      <td>35-55</td>\n",
       "      <td>N</td>\n",
       "      <td>Pass</td>\n",
       "    </tr>\n",
       "  </tbody>\n",
       "</table>\n",
       "</div>"
      ],
      "text/plain": [
       "  code_module code_presentation gender                region  \\\n",
       "0         AAA             2013J      M   East Anglian Region   \n",
       "1         AAA             2013J      F              Scotland   \n",
       "2         AAA             2013J      F     South East Region   \n",
       "3         AAA             2013J      F  West Midlands Region   \n",
       "4         AAA             2013J      M                 Wales   \n",
       "\n",
       "       highest_education imd_band age_band disability final_result  \n",
       "0       HE Qualification  90-100%     55<=          N         Pass  \n",
       "1       HE Qualification   20-30%    35-55          N         Pass  \n",
       "2  A Level or Equivalent   50-60%    35-55          N         Pass  \n",
       "3     Lower Than A Level   50-60%     0-35          N         Pass  \n",
       "4  A Level or Equivalent   80-90%    35-55          N         Pass  "
      ]
     },
     "execution_count": 16,
     "metadata": {},
     "output_type": "execute_result"
    }
   ],
   "source": [
    "# Produce a dataframe with just categorical columns\n",
    "df_cat = df.select_dtypes(exclude=np.number)\n",
    "\n",
    "df_cat.head()"
   ]
  },
  {
   "cell_type": "code",
   "execution_count": 17,
   "metadata": {},
   "outputs": [
    {
     "data": {
      "image/png": "[encoded data removed]",
      "text/plain": [
       "<Figure size 1080x1080 with 4 Axes>"
      ]
     },
     "metadata": {
      "needs_background": "light"
     },
     "output_type": "display_data"
    }
   ],
   "source": [
    "# Set the plot number for the first subplot function\n",
    "plot_number = 1\n",
    "\n",
    "# Set sizes for all plots\n",
    "plt.figure(figsize=(15, 15)) # create a figure object\n",
    "plt.subplots_adjust(hspace = 0.5) # set the size of subplots\n",
    "\n",
    "for col in df_cat[['code_module', 'code_presentation', 'gender', 'region']]:\n",
    "    \n",
    "    # Call countplot on each column\n",
    "    plt.subplot(4, 2, plot_number)\n",
    "    sns.countplot(\n",
    "        y=col,\n",
    "        data=df_cat,\n",
    "        order=df_cat[col].value_counts().index\n",
    "    )\n",
    "    plt.title(f'{col.capitalize()} Countplot')\n",
    "    plt.xlabel('')\n",
    "    plt.ylabel('')\n",
    "\n",
    "    plot_number = plot_number + 1 # set a new plot number for the next subplot function\n",
    "    \n",
    "    # Add relative frequency labels:\n",
    "    n_points = df_cat.shape[0]\n",
    "    col_counts = df_cat[col].value_counts()\n",
    "    locs, labels = plt.yticks()   # get the current tick locations and labels\n",
    "\n",
    "    # loop through each pair of locations and labels\n",
    "    for loc, label in zip(locs, labels):\n",
    "\n",
    "        # get the text property for the label to get the correct count\n",
    "        count = col_counts[label.get_text()]\n",
    "        pct_string = '{:0.1f}%'.format(100*count/n_points)\n",
    "\n",
    "        # print the annotation at the top of the bar\n",
    "        plt.text(x=count, y=loc, s=pct_string, ha='left', va='center', color='k')\n",
    "    \n",
    "plt.tight_layout()"
   ]
  },
  {
   "cell_type": "markdown",
   "metadata": {},
   "source": [
    "Module BBB merupakan module yang paling banyak di ambil oleh student dimana presentasi 2014j yang paling banyak diambil. Student juga lebih banyak pria dibanding wanita. Tempat tinggal Student yang mengikuti module paling banyak dari region scotlandia dan paling sedikit berada di Ireland dan North Region"
   ]
  },
  {
   "cell_type": "code",
   "execution_count": 18,
   "metadata": {},
   "outputs": [
    {
     "data": {
      "image/png": "[encoded data removed]",
      "text/plain": [
       "<Figure size 1080x1080 with 4 Axes>"
      ]
     },
     "metadata": {
      "needs_background": "light"
     },
     "output_type": "display_data"
    }
   ],
   "source": [
    "# Set the plot number for the first subplot function\n",
    "plot_number = 1\n",
    "\n",
    "# Set sizes for all plots\n",
    "plt.figure(figsize=(15, 15)) # create a figure object\n",
    "plt.subplots_adjust(hspace = 0.5) # set the size of subplots\n",
    "\n",
    "for col in df_cat[['highest_education', 'imd_band', 'age_band', 'disability']]:\n",
    "    \n",
    "    # Call countplot on each column\n",
    "    plt.subplot(4, 2, plot_number)\n",
    "    sns.countplot(\n",
    "        y=col,\n",
    "        data=df_cat,\n",
    "        order=df_cat[col].value_counts().index\n",
    "    )\n",
    "    plt.title(f'{col.capitalize()} Countplot')\n",
    "    plt.xlabel('')\n",
    "    plt.ylabel('')\n",
    "\n",
    "    plot_number = plot_number + 1 # set a new plot number for the next subplot function\n",
    "    \n",
    "    # Add relative frequency labels:\n",
    "    n_points = df_cat.shape[0]\n",
    "    col_counts = df_cat[col].value_counts()\n",
    "    locs, labels = plt.yticks()   # get the current tick locations and labels\n",
    "\n",
    "    # loop through each pair of locations and labels\n",
    "    for loc, label in zip(locs, labels):\n",
    "\n",
    "        # get the text property for the label to get the correct count\n",
    "        count = col_counts[label.get_text()]\n",
    "        pct_string = '{:0.1f}%'.format(100*count/n_points)\n",
    "\n",
    "        # print the annotation at the top of the bar\n",
    "        plt.text(x=count, y=loc, s=pct_string, ha='left', va='center', color='k')\n",
    "    \n",
    "plt.tight_layout()"
   ]
  },
  {
   "cell_type": "markdown",
   "metadata": {},
   "source": [
    "Edukasi para siswa berbeda tipis antara siswa yang sudah cukup dengan level modul dan lebih rendah dari level modul. Hal ini mungkin bisa terlihat dari imd_band yaitu tingkat kebobrokan wilayah beradarkan tempat tinggal mereka dimana 3 teratas memiliki tingkat keborokan antara 10-40 %. Tentu saja mayoritas umur yang wajar dalam universitas dimana umur terbanyak berada pada range 0-35, dan ternyata terdapat 9% student yang disabilitas\n",
    "\n",
    "Sekarang mari kita lihat bagimana corelasi antar feature dengan target."
   ]
  },
  {
   "cell_type": "markdown",
   "metadata": {},
   "source": [
    "## Bivariate analysis: final scores vs other variables\n",
    "\n",
    "### Numerical"
   ]
  },
  {
   "cell_type": "code",
   "execution_count": 19,
   "metadata": {},
   "outputs": [
    {
     "data": {
      "text/plain": [
       "<seaborn.axisgrid.PairGrid at 0x26a52fede80>"
      ]
     },
     "execution_count": 19,
     "metadata": {},
     "output_type": "execute_result"
    },
    {
     "data": {
      "image/png": "[encoded data removed]",
      "text/plain": [
       "<Figure size 360x360 with 6 Axes>"
      ]
     },
     "metadata": {
      "needs_background": "light"
     },
     "output_type": "display_data"
    }
   ],
   "source": [
    "sns.pairplot(df)"
   ]
  },
  {
   "cell_type": "markdown",
   "metadata": {},
   "source": [
    "### Categorical\n",
    "\n",
    "#### code_module & code_presentation"
   ]
  },
  {
   "cell_type": "code",
   "execution_count": 20,
   "metadata": {},
   "outputs": [
    {
     "data": {
      "image/png": "[encoded data removed]",
      "text/plain": [
       "<Figure size 1440x720 with 2 Axes>"
      ]
     },
     "metadata": {
      "needs_background": "light"
     },
     "output_type": "display_data"
    }
   ],
   "source": [
    "plt.figure(figsize=(20, 10))\n",
    "plt.subplot(1,2,1)\n",
    "sns.countplot(data=df, x='code_module' ,hue='final_result')\n",
    "\n",
    "plt.subplot(1,2,2)\n",
    "sns.countplot(data=df, x='code_presentation' ,hue='final_result')\n",
    "plt.show()"
   ]
  },
  {
   "cell_type": "markdown",
   "metadata": {},
   "source": [
    "Memang modul BBB bisa dibilang modul yang terending karena banyak student yang mengambil module tersebut begitu pula dengan hasil kelulusan mereka dimana banyak yang berhasil dari module ini dan banyak juga yang tidak berhasil."
   ]
  },
  {
   "cell_type": "markdown",
   "metadata": {},
   "source": [
    "#### gender & region"
   ]
  },
  {
   "cell_type": "code",
   "execution_count": 21,
   "metadata": {},
   "outputs": [
    {
     "data": {
      "image/png": "[encoded data removed]",
      "text/plain": [
       "<Figure size 1440x720 with 2 Axes>"
      ]
     },
     "metadata": {
      "needs_background": "light"
     },
     "output_type": "display_data"
    }
   ],
   "source": [
    "plt.figure(figsize=(20, 10))\n",
    "plt.subplot(1,2,1)\n",
    "sns.countplot(data=df, x='gender' ,hue='final_result')\n",
    "\n",
    "plt.subplot(1,2,2)\n",
    "sns.countplot(data=df, x='region' ,hue='final_result')\n",
    "plt.xticks(rotation=45)\n",
    "plt.show()"
   ]
  },
  {
   "cell_type": "markdown",
   "metadata": {},
   "source": [
    "Region Scotland memangkan perikat dimana region dengan student yang paling banyak lulus dan student yang paling banyak tidak lulusnya"
   ]
  },
  {
   "cell_type": "markdown",
   "metadata": {},
   "source": [
    "#### highest_education & disability"
   ]
  },
  {
   "cell_type": "code",
   "execution_count": 22,
   "metadata": {},
   "outputs": [
    {
     "data": {
      "image/png": "[encoded data removed]",
      "text/plain": [
       "<Figure size 1440x720 with 2 Axes>"
      ]
     },
     "metadata": {
      "needs_background": "light"
     },
     "output_type": "display_data"
    }
   ],
   "source": [
    "plt.figure(figsize=(20, 10))\n",
    "plt.subplot(1,2,1)\n",
    "sns.countplot(data=df, x='highest_education' ,hue='final_result')\n",
    "plt.xticks(rotation=45)\n",
    "\n",
    "plt.subplot(1,2,2)\n",
    "sns.countplot(data=df, x='disability' ,hue='final_result')\n",
    "plt.show()"
   ]
  },
  {
   "cell_type": "markdown",
   "metadata": {},
   "source": [
    "cukup mengejutkan bahwa student yang paling banyak lulus merupakan student dengan edukasi yang belum setara dengan universitas"
   ]
  },
  {
   "cell_type": "markdown",
   "metadata": {},
   "source": [
    "#### imd_band & age_band"
   ]
  },
  {
   "cell_type": "code",
   "execution_count": 23,
   "metadata": {},
   "outputs": [
    {
     "data": {
      "image/png": "[encoded data removed]",
      "text/plain": [
       "<Figure size 1440x720 with 2 Axes>"
      ]
     },
     "metadata": {
      "needs_background": "light"
     },
     "output_type": "display_data"
    }
   ],
   "source": [
    "plt.figure(figsize=(20, 10))\n",
    "plt.subplot(1,2,1)\n",
    "sns.countplot(data=df, x='imd_band' ,hue='final_result')\n",
    "\n",
    "plt.subplot(1,2,2)\n",
    "sns.countplot(data=df, x='age_band' ,hue='final_result')\n",
    "plt.show()"
   ]
  },
  {
   "cell_type": "markdown",
   "metadata": {},
   "source": [
    "Memang tempat belum tentu membuat kita berhasil terlihat dimana wilayah yang memiliki tingkat kebobrokan paling rendah yaitu range 0-10% bukanlah student yang paling banyak lulus, bisa dilihat dari grafik bahwa tingkat kebobrokan menengah yang paling banyak lulus."
   ]
  },
  {
   "cell_type": "markdown",
   "metadata": {},
   "source": [
    "Kita akan memasuki tahap data processing dimana berikut langkah yang dilakukan\n",
    "- Feature Selection\n",
    "- Split Data\n",
    "- Detech Outliers\n",
    "- Scaling & Encoding"
   ]
  },
  {
   "cell_type": "markdown",
   "metadata": {},
   "source": [
    "# 5 - Data Preprocessing"
   ]
  },
  {
   "cell_type": "markdown",
   "metadata": {},
   "source": [
    "## Feature Selection"
   ]
  },
  {
   "cell_type": "markdown",
   "metadata": {},
   "source": [
    "Mari kita cek unique values dari setiap kolom"
   ]
  },
  {
   "cell_type": "code",
   "execution_count": 24,
   "metadata": {},
   "outputs": [
    {
     "name": "stdout",
     "output_type": "stream",
     "text": [
      "code_module : ['AAA' 'BBB' 'CCC' 'DDD' 'EEE' 'FFF' 'GGG']\n",
      "code_presentation : ['2013J' '2014J' '2013B' '2014B']\n",
      "gender : ['M' 'F']\n",
      "region : ['East Anglian Region' 'Scotland' 'South East Region'\n",
      " 'West Midlands Region' 'Wales' 'North Western Region' 'South Region'\n",
      " 'South West Region' 'East Midlands Region' 'Yorkshire Region'\n",
      " 'London Region' 'North Region' 'Ireland']\n",
      "highest_education : ['HE Qualification' 'A Level or Equivalent' 'Lower Than A Level'\n",
      " 'Post Graduate Qualification' 'No Formal quals']\n",
      "imd_band : ['90-100%' '20-30%' '50-60%' '80-90%' '30-40%' '70-80%' '60-70%' '40-50%'\n",
      " '10-20' '0-10%']\n",
      "age_band : ['55<=' '35-55' '0-35']\n",
      "num_of_prev_attempts : [0 1 2 4 3 5 6]\n",
      "studied_credits : [240  60 120  90 150 180 420 170  80 300 210  75 135  70 225 325 130 195\n",
      " 105 330 270 165 250  30  40  45 160 145 630 100 220 110  95 280 155 190\n",
      " 200 215  55  50 115  65 140 360 430]\n",
      "disability : ['N' 'Y']\n",
      "final_result : ['Pass' 'Fail']\n"
     ]
    }
   ],
   "source": [
    "for i in df :\n",
    "    print(f'{i} : {df[i].unique()}')"
   ]
  },
  {
   "cell_type": "markdown",
   "metadata": {},
   "source": [
    "kolom region memiliki nilai yang lumayan jauh jumlah dibandingkan kolom yang lain untuk itu kita tidak akan memakai kolum tersebut supaya cardinality dari data tidak tinggi"
   ]
  },
  {
   "cell_type": "code",
   "execution_count": 25,
   "metadata": {},
   "outputs": [
    {
     "name": "stderr",
     "output_type": "stream",
     "text": [
      "C:\\Users\\mjrum\\AppData\\Local\\Temp\\ipykernel_9548\\713470462.py:1: SettingWithCopyWarning: \n",
      "A value is trying to be set on a copy of a slice from a DataFrame\n",
      "\n",
      "See the caveats in the documentation: https://pandas.pydata.org/pandas-docs/stable/user_guide/indexing.html#returning-a-view-versus-a-copy\n",
      "  df.drop('region', axis=1, inplace=True)\n"
     ]
    }
   ],
   "source": [
    "df.drop('region', axis=1, inplace=True)"
   ]
  },
  {
   "cell_type": "markdown",
   "metadata": {},
   "source": [
    "## Split Data\n",
    "\n",
    "### Inference Data "
   ]
  },
  {
   "cell_type": "code",
   "execution_count": 26,
   "metadata": {},
   "outputs": [
    {
     "data": {
      "text/html": [
       "<div>\n",
       "<style scoped>\n",
       "    .dataframe tbody tr th:only-of-type {\n",
       "        vertical-align: middle;\n",
       "    }\n",
       "\n",
       "    .dataframe tbody tr th {\n",
       "        vertical-align: top;\n",
       "    }\n",
       "\n",
       "    .dataframe thead th {\n",
       "        text-align: right;\n",
       "    }\n",
       "</style>\n",
       "<table border=\"1\" class=\"dataframe\">\n",
       "  <thead>\n",
       "    <tr style=\"text-align: right;\">\n",
       "      <th></th>\n",
       "      <th>code_module</th>\n",
       "      <th>code_presentation</th>\n",
       "      <th>gender</th>\n",
       "      <th>highest_education</th>\n",
       "      <th>imd_band</th>\n",
       "      <th>age_band</th>\n",
       "      <th>num_of_prev_attempts</th>\n",
       "      <th>studied_credits</th>\n",
       "      <th>disability</th>\n",
       "      <th>final_result</th>\n",
       "    </tr>\n",
       "  </thead>\n",
       "  <tbody>\n",
       "    <tr>\n",
       "      <th>0</th>\n",
       "      <td>BBB</td>\n",
       "      <td>2013J</td>\n",
       "      <td>M</td>\n",
       "      <td>A Level or Equivalent</td>\n",
       "      <td>80-90%</td>\n",
       "      <td>35-55</td>\n",
       "      <td>0</td>\n",
       "      <td>60</td>\n",
       "      <td>N</td>\n",
       "      <td>Pass</td>\n",
       "    </tr>\n",
       "    <tr>\n",
       "      <th>1</th>\n",
       "      <td>EEE</td>\n",
       "      <td>2014J</td>\n",
       "      <td>M</td>\n",
       "      <td>Lower Than A Level</td>\n",
       "      <td>30-40%</td>\n",
       "      <td>35-55</td>\n",
       "      <td>0</td>\n",
       "      <td>90</td>\n",
       "      <td>N</td>\n",
       "      <td>Pass</td>\n",
       "    </tr>\n",
       "    <tr>\n",
       "      <th>2</th>\n",
       "      <td>BBB</td>\n",
       "      <td>2013J</td>\n",
       "      <td>F</td>\n",
       "      <td>HE Qualification</td>\n",
       "      <td>50-60%</td>\n",
       "      <td>35-55</td>\n",
       "      <td>0</td>\n",
       "      <td>120</td>\n",
       "      <td>N</td>\n",
       "      <td>Fail</td>\n",
       "    </tr>\n",
       "    <tr>\n",
       "      <th>3</th>\n",
       "      <td>AAA</td>\n",
       "      <td>2014J</td>\n",
       "      <td>M</td>\n",
       "      <td>A Level or Equivalent</td>\n",
       "      <td>70-80%</td>\n",
       "      <td>35-55</td>\n",
       "      <td>0</td>\n",
       "      <td>60</td>\n",
       "      <td>N</td>\n",
       "      <td>Pass</td>\n",
       "    </tr>\n",
       "    <tr>\n",
       "      <th>4</th>\n",
       "      <td>BBB</td>\n",
       "      <td>2014B</td>\n",
       "      <td>F</td>\n",
       "      <td>Lower Than A Level</td>\n",
       "      <td>30-40%</td>\n",
       "      <td>0-35</td>\n",
       "      <td>0</td>\n",
       "      <td>90</td>\n",
       "      <td>N</td>\n",
       "      <td>Fail</td>\n",
       "    </tr>\n",
       "    <tr>\n",
       "      <th>...</th>\n",
       "      <td>...</td>\n",
       "      <td>...</td>\n",
       "      <td>...</td>\n",
       "      <td>...</td>\n",
       "      <td>...</td>\n",
       "      <td>...</td>\n",
       "      <td>...</td>\n",
       "      <td>...</td>\n",
       "      <td>...</td>\n",
       "      <td>...</td>\n",
       "    </tr>\n",
       "    <tr>\n",
       "      <th>108</th>\n",
       "      <td>FFF</td>\n",
       "      <td>2013B</td>\n",
       "      <td>M</td>\n",
       "      <td>Lower Than A Level</td>\n",
       "      <td>10-20</td>\n",
       "      <td>0-35</td>\n",
       "      <td>0</td>\n",
       "      <td>60</td>\n",
       "      <td>N</td>\n",
       "      <td>Fail</td>\n",
       "    </tr>\n",
       "    <tr>\n",
       "      <th>109</th>\n",
       "      <td>BBB</td>\n",
       "      <td>2014J</td>\n",
       "      <td>F</td>\n",
       "      <td>Lower Than A Level</td>\n",
       "      <td>10-20</td>\n",
       "      <td>0-35</td>\n",
       "      <td>0</td>\n",
       "      <td>60</td>\n",
       "      <td>Y</td>\n",
       "      <td>Pass</td>\n",
       "    </tr>\n",
       "    <tr>\n",
       "      <th>110</th>\n",
       "      <td>BBB</td>\n",
       "      <td>2014J</td>\n",
       "      <td>M</td>\n",
       "      <td>A Level or Equivalent</td>\n",
       "      <td>70-80%</td>\n",
       "      <td>0-35</td>\n",
       "      <td>0</td>\n",
       "      <td>120</td>\n",
       "      <td>N</td>\n",
       "      <td>Pass</td>\n",
       "    </tr>\n",
       "    <tr>\n",
       "      <th>111</th>\n",
       "      <td>DDD</td>\n",
       "      <td>2013J</td>\n",
       "      <td>M</td>\n",
       "      <td>A Level or Equivalent</td>\n",
       "      <td>20-30%</td>\n",
       "      <td>0-35</td>\n",
       "      <td>0</td>\n",
       "      <td>60</td>\n",
       "      <td>N</td>\n",
       "      <td>Pass</td>\n",
       "    </tr>\n",
       "    <tr>\n",
       "      <th>112</th>\n",
       "      <td>DDD</td>\n",
       "      <td>2013J</td>\n",
       "      <td>M</td>\n",
       "      <td>Lower Than A Level</td>\n",
       "      <td>60-70%</td>\n",
       "      <td>0-35</td>\n",
       "      <td>0</td>\n",
       "      <td>60</td>\n",
       "      <td>N</td>\n",
       "      <td>Pass</td>\n",
       "    </tr>\n",
       "  </tbody>\n",
       "</table>\n",
       "<p>113 rows × 10 columns</p>\n",
       "</div>"
      ],
      "text/plain": [
       "    code_module code_presentation gender      highest_education imd_band  \\\n",
       "0           BBB             2013J      M  A Level or Equivalent   80-90%   \n",
       "1           EEE             2014J      M     Lower Than A Level   30-40%   \n",
       "2           BBB             2013J      F       HE Qualification   50-60%   \n",
       "3           AAA             2014J      M  A Level or Equivalent   70-80%   \n",
       "4           BBB             2014B      F     Lower Than A Level   30-40%   \n",
       "..          ...               ...    ...                    ...      ...   \n",
       "108         FFF             2013B      M     Lower Than A Level    10-20   \n",
       "109         BBB             2014J      F     Lower Than A Level    10-20   \n",
       "110         BBB             2014J      M  A Level or Equivalent   70-80%   \n",
       "111         DDD             2013J      M  A Level or Equivalent   20-30%   \n",
       "112         DDD             2013J      M     Lower Than A Level   60-70%   \n",
       "\n",
       "    age_band  num_of_prev_attempts  studied_credits disability final_result  \n",
       "0      35-55                     0               60          N         Pass  \n",
       "1      35-55                     0               90          N         Pass  \n",
       "2      35-55                     0              120          N         Fail  \n",
       "3      35-55                     0               60          N         Pass  \n",
       "4       0-35                     0               90          N         Fail  \n",
       "..       ...                   ...              ...        ...          ...  \n",
       "108     0-35                     0               60          N         Fail  \n",
       "109     0-35                     0               60          Y         Pass  \n",
       "110     0-35                     0              120          N         Pass  \n",
       "111     0-35                     0               60          N         Pass  \n",
       "112     0-35                     0               60          N         Pass  \n",
       "\n",
       "[113 rows x 10 columns]"
      ]
     },
     "execution_count": 26,
     "metadata": {},
     "output_type": "execute_result"
    }
   ],
   "source": [
    "# Sample the data for inference Model\n",
    "df_inf = df.sample(113, random_state=1)\n",
    "\n",
    "# Drop df_inf data from df\n",
    "df.drop(df_inf.index)\n",
    "\n",
    "# reset the index\n",
    "df.reset_index(drop=True, inplace=True)\n",
    "df_inf.reset_index(drop=True, inplace=True)\n",
    "\n",
    "df_inf"
   ]
  },
  {
   "cell_type": "markdown",
   "metadata": {},
   "source": [
    "### Train & Test Data"
   ]
  },
  {
   "cell_type": "code",
   "execution_count": 27,
   "metadata": {},
   "outputs": [
    {
     "name": "stdout",
     "output_type": "stream",
     "text": [
      "(14052, 9)\n",
      "(4685, 9)\n"
     ]
    }
   ],
   "source": [
    "# split feautures and target\n",
    "X = df.drop(['final_result'], axis=1)\n",
    "y = df['final_result']\n",
    "\n",
    "# split features and target for Train and Test\n",
    "X_train, X_test, y_train, y_test = train_test_split(X, y, test_size=0.25, random_state=1)\n",
    "\n",
    "# print shape\n",
    "print(X_train.shape)\n",
    "print(X_test.shape)"
   ]
  },
  {
   "cell_type": "markdown",
   "metadata": {},
   "source": [
    "## Outliers"
   ]
  },
  {
   "cell_type": "code",
   "execution_count": 28,
   "metadata": {},
   "outputs": [],
   "source": [
    "# Input Paramater Distribution  Check\n",
    "dist_check = X_train.skew(numeric_only=True)\n",
    "\n",
    "normal_dist = []\n",
    "skew_dist = []\n",
    "\n",
    "for i in range(len(dist_check)):\n",
    "    if dist_check.values[i] < -0.5:\n",
    "        skew_dist.append(dist_check.index[i])\n",
    "    elif dist_check.values[i] > 0.5:\n",
    "        skew_dist.append(dist_check.index[i])\n",
    "    else:\n",
    "        normal_dist.append(dist_check.index[i])"
   ]
  },
  {
   "cell_type": "code",
   "execution_count": 29,
   "metadata": {},
   "outputs": [
    {
     "name": "stdout",
     "output_type": "stream",
     "text": [
      "skew_dist : ['num_of_prev_attempts', 'studied_credits']\n",
      "________________________________________________________________________________________________________________________________________________________________________________________________________\n",
      "normal_dist : []\n",
      "________________________________________________________________________________________________________________________________________________________________________________________________________\n"
     ]
    }
   ],
   "source": [
    "# Skew dist\n",
    "print('skew_dist :', skew_dist)\n",
    "print(\"__________\"*20)\n",
    "# normal_dist\n",
    "print('normal_dist :',normal_dist)\n",
    "print(\"__________\"*20)"
   ]
  },
  {
   "cell_type": "code",
   "execution_count": 30,
   "metadata": {},
   "outputs": [],
   "source": [
    "# Outliers Detection Function\n",
    "# for Skew Distributed Data\n",
    "\n",
    "def detect_skew(df, parameter, fold=1.5):\n",
    "    \n",
    "    for i in parameter:\n",
    "        \n",
    "        IQR = df[parameter].quantile(0.75) - df[parameter].quantile(0.25)\n",
    "        upper = df[parameter].quantile(0.75) + (fold*IQR)\n",
    "        bottom = df[parameter].quantile(0.25) - (fold*IQR)\n",
    "\n",
    "        upper_count = df[\n",
    "            (df[parameter] > upper)\n",
    "        ][parameter].count()\n",
    "\n",
    "        bottom_count = df[\n",
    "            (df[parameter] < bottom)\n",
    "        ][parameter].count()\n",
    "        \n",
    "        total_count = upper_count + bottom_count\n",
    "\n",
    "        percentage = (total_count/len(df[parameter])*100).round(2)\n",
    "\n",
    "        a = ({'Parameter':parameter, 'Total Outliers':total_count, 'Percentage':percentage})\n",
    "\n",
    "    return print(a)"
   ]
  },
  {
   "cell_type": "code",
   "execution_count": 31,
   "metadata": {},
   "outputs": [
    {
     "name": "stdout",
     "output_type": "stream",
     "text": [
      "{'Parameter': 'num_of_prev_attempts', 'Total Outliers': 1820, 'Percentage': 12.95}\n",
      "{'Parameter': 'studied_credits', 'Total Outliers': 687, 'Percentage': 4.89}\n"
     ]
    }
   ],
   "source": [
    "# Outlier summary\n",
    "# For skew distributed input parameter\n",
    "\n",
    "for i in skew_dist:\n",
    "    detect_skew(X_train, parameter=i)"
   ]
  },
  {
   "cell_type": "markdown",
   "metadata": {},
   "source": [
    "## Scaling & Encoding"
   ]
  },
  {
   "cell_type": "code",
   "execution_count": 32,
   "metadata": {},
   "outputs": [],
   "source": [
    "num_cols = X_train.select_dtypes(include=np.number).columns.tolist()\n",
    "cat_ohe = ['code_module', 'code_presentation', 'gender', 'disability']\n",
    "cat_ohe_label = ['AAA','BBB','CCC','DDD','EEE','FFF','GGG',\n",
    "                '2013J','2014J','2013B','2014B','M','F','N','Y']\n",
    "cat_ord = ['highest_education', 'imd_band', 'age_band']"
   ]
  },
  {
   "cell_type": "code",
   "execution_count": 33,
   "metadata": {},
   "outputs": [],
   "source": [
    "scaler_encode = make_column_transformer(\n",
    "    (MinMaxScaler(),num_cols),\n",
    "    (OneHotEncoder(), cat_ohe),\n",
    "    (OrdinalEncoder(), cat_ord),\n",
    ")"
   ]
  },
  {
   "cell_type": "markdown",
   "metadata": {},
   "source": [
    "Kita membuat column_transformer untuk memudahkan kita melakukan scaling dan encoding, terdapat 3 bagian dimana untuk kolom numeric kita menggunakan MinMaxScaler karena kolom numeric kita skew, lalu untu data yang non ordinal kita menggunakan OnehotEncoder dan data ordinal kita menggunakan OrdinalEncoder"
   ]
  },
  {
   "cell_type": "markdown",
   "metadata": {},
   "source": [
    "# 6 - Model Definition"
   ]
  },
  {
   "cell_type": "markdown",
   "metadata": {},
   "source": [
    "Pada klasifikasi ini kita menggunakan 4 Algoritma dimana 2 diantaranya adalah Ensamble.\n",
    "\n",
    "Algoritma :\n",
    "- Random Forest\n",
    "- Decision Tree\n",
    "- Support Vector Machine\n",
    "- AdaBoost\n",
    "\n",
    "Target : final_result\n",
    "\n",
    "Feature : \n",
    "- code_module, code_presentation, gender, disability\n",
    "- highest_education, imd_band, age_band\n",
    "- studied_credits, num_of_prev_attempts\n",
    "\n",
    "Kita menaruh Positive ketika melihat ConfussionMatix pada label Pass seperti pada objektive kita, lalu untuk mengetahui performanya kita akan melihat recallnya kaarena resiko akan lebih jika model salah memprediksi student yang sebenatnya lulus namun tdiprediksi tidak lulus.\n",
    "\n",
    "Metrics :\n",
    "- ConfussionMatrix\n",
    "- Recall"
   ]
  },
  {
   "cell_type": "markdown",
   "metadata": {},
   "source": [
    "## Random Forrest"
   ]
  },
  {
   "cell_type": "code",
   "execution_count": 34,
   "metadata": {},
   "outputs": [],
   "source": [
    "random_state = 8\n",
    "# Initial Model\n",
    "RF = RandomForestClassifier(random_state=random_state, n_jobs=-1, verbose=1)\n",
    "\n",
    "# Model Pipeline\n",
    "pipe_RF = Pipeline([\n",
    "    ('preprocessing', scaler_encode),\n",
    "    ('RF', RF)\n",
    "])\n",
    "\n",
    "# Hyper parameter\n",
    "params_RF = {\n",
    "    'RF__criterion': ['gini', 'entropy'],\n",
    "    'RF__min_samples_split': [2, 4, 8, 16, 32, 64],\n",
    "    'RF__max_features': ['auto', 'sqrt', 'log2']\n",
    "}"
   ]
  },
  {
   "cell_type": "markdown",
   "metadata": {},
   "source": [
    "## Decission Tree"
   ]
  },
  {
   "cell_type": "code",
   "execution_count": 35,
   "metadata": {},
   "outputs": [],
   "source": [
    "# Initial Model\n",
    "DT = DecisionTreeClassifier(random_state=random_state)\n",
    "\n",
    "# Model Pipeline\n",
    "pipe_DT = Pipeline([\n",
    "    ('preprocessing', scaler_encode),\n",
    "    ('DT', DT)\n",
    "])\n",
    "\n",
    "# Hyper parameter\n",
    "params_DT = {\n",
    "    'DT__criterion': ['gini', 'entropy'],\n",
    "    'DT__max_depth': [None, 8, 16, 32],\n",
    "    'DT__min_samples_split': [2, 4, 8, 16, 32, 64]\n",
    "}"
   ]
  },
  {
   "cell_type": "markdown",
   "metadata": {},
   "source": [
    "## SVM"
   ]
  },
  {
   "cell_type": "code",
   "execution_count": 36,
   "metadata": {},
   "outputs": [],
   "source": [
    "# Initial Model\n",
    "SVM = SVC(random_state=random_state)\n",
    "\n",
    "# Model Pipeline\n",
    "pipe_SVM = Pipeline([\n",
    "    ('preprocessing', scaler_encode),\n",
    "    ('SVM', SVM)\n",
    "])\n",
    "\n",
    "# Hyper parameter\n",
    "params_SVM = {'SVM__C': [100,1000],\n",
    "              'SVM__gamma': [ 0.01,0.001],\n",
    "              'SVM__kernel': ['rbf']}"
   ]
  },
  {
   "cell_type": "markdown",
   "metadata": {},
   "source": [
    "## AdaBoost"
   ]
  },
  {
   "cell_type": "code",
   "execution_count": 37,
   "metadata": {},
   "outputs": [],
   "source": [
    "# Initial Model\n",
    "Ada = AdaBoostClassifier(random_state=random_state)\n",
    "\n",
    "# Model Pipeline\n",
    "pipe_Ada = Pipeline([\n",
    "    ('preprocessing', scaler_encode),\n",
    "    ('Ada', Ada)\n",
    "])\n",
    "\n",
    "# Hyper parameter\n",
    "params_Ada = {\n",
    "    'Ada__n_estimators': [10, 50, 100, 200, 500],\n",
    "    'Ada__learning_rate': [0.1, 0.5, 1, 10, 50, 100],\n",
    "    'Ada__algorithm': ['SAMME', 'SAMME.R']\n",
    "}"
   ]
  },
  {
   "cell_type": "markdown",
   "metadata": {},
   "source": [
    "# 7 - Model Training"
   ]
  },
  {
   "cell_type": "markdown",
   "metadata": {},
   "source": [
    "Kita akan melakukan training kepada setiap model untuk melihat performanya satu satu lalu kita akan recap performanya menggunakan cross validation score yang tentunya scoring berdasarkan recall dimana positivenya adalah Pass. Setelah itu kita akan menentukan performa model terbaik untuk kita lakukan hyperparameter tuning menggunakan GridSearchCV."
   ]
  },
  {
   "cell_type": "markdown",
   "metadata": {},
   "source": [
    "## Base Model\n",
    "\n",
    "### Random Forest"
   ]
  },
  {
   "cell_type": "code",
   "execution_count": 38,
   "metadata": {},
   "outputs": [
    {
     "name": "stderr",
     "output_type": "stream",
     "text": [
      "[Parallel(n_jobs=-1)]: Using backend ThreadingBackend with 8 concurrent workers.\n",
      "[Parallel(n_jobs=-1)]: Done  34 tasks      | elapsed:    0.0s\n",
      "[Parallel(n_jobs=-1)]: Done 100 out of 100 | elapsed:    0.1s finished\n"
     ]
    },
    {
     "data": {
      "text/plain": [
       "Pipeline(steps=[('preprocessing',\n",
       "                 ColumnTransformer(transformers=[('minmaxscaler',\n",
       "                                                  MinMaxScaler(),\n",
       "                                                  ['num_of_prev_attempts',\n",
       "                                                   'studied_credits']),\n",
       "                                                 ('onehotencoder',\n",
       "                                                  OneHotEncoder(),\n",
       "                                                  ['code_module',\n",
       "                                                   'code_presentation',\n",
       "                                                   'gender', 'disability']),\n",
       "                                                 ('ordinalencoder',\n",
       "                                                  OrdinalEncoder(),\n",
       "                                                  ['highest_education',\n",
       "                                                   'imd_band', 'age_band'])])),\n",
       "                ('RF',\n",
       "                 RandomForestClassifier(n_jobs=-1, random_state=8, verbose=1))])"
      ]
     },
     "execution_count": 38,
     "metadata": {},
     "output_type": "execute_result"
    }
   ],
   "source": [
    "pipe_RF.fit(X_train,y_train)"
   ]
  },
  {
   "cell_type": "markdown",
   "metadata": {},
   "source": [
    "### Decission Tree"
   ]
  },
  {
   "cell_type": "code",
   "execution_count": 39,
   "metadata": {},
   "outputs": [
    {
     "data": {
      "text/plain": [
       "Pipeline(steps=[('preprocessing',\n",
       "                 ColumnTransformer(transformers=[('minmaxscaler',\n",
       "                                                  MinMaxScaler(),\n",
       "                                                  ['num_of_prev_attempts',\n",
       "                                                   'studied_credits']),\n",
       "                                                 ('onehotencoder',\n",
       "                                                  OneHotEncoder(),\n",
       "                                                  ['code_module',\n",
       "                                                   'code_presentation',\n",
       "                                                   'gender', 'disability']),\n",
       "                                                 ('ordinalencoder',\n",
       "                                                  OrdinalEncoder(),\n",
       "                                                  ['highest_education',\n",
       "                                                   'imd_band', 'age_band'])])),\n",
       "                ('DT', DecisionTreeClassifier(random_state=8))])"
      ]
     },
     "execution_count": 39,
     "metadata": {},
     "output_type": "execute_result"
    }
   ],
   "source": [
    "pipe_DT.fit(X_train,y_train)"
   ]
  },
  {
   "cell_type": "markdown",
   "metadata": {},
   "source": [
    "### SVM"
   ]
  },
  {
   "cell_type": "code",
   "execution_count": 40,
   "metadata": {},
   "outputs": [
    {
     "data": {
      "text/plain": [
       "Pipeline(steps=[('preprocessing',\n",
       "                 ColumnTransformer(transformers=[('minmaxscaler',\n",
       "                                                  MinMaxScaler(),\n",
       "                                                  ['num_of_prev_attempts',\n",
       "                                                   'studied_credits']),\n",
       "                                                 ('onehotencoder',\n",
       "                                                  OneHotEncoder(),\n",
       "                                                  ['code_module',\n",
       "                                                   'code_presentation',\n",
       "                                                   'gender', 'disability']),\n",
       "                                                 ('ordinalencoder',\n",
       "                                                  OrdinalEncoder(),\n",
       "                                                  ['highest_education',\n",
       "                                                   'imd_band', 'age_band'])])),\n",
       "                ('SVM', SVC(random_state=8))])"
      ]
     },
     "execution_count": 40,
     "metadata": {},
     "output_type": "execute_result"
    }
   ],
   "source": [
    "pipe_SVM.fit(X_train,y_train)"
   ]
  },
  {
   "cell_type": "markdown",
   "metadata": {},
   "source": [
    "### AdaBoost"
   ]
  },
  {
   "cell_type": "code",
   "execution_count": 41,
   "metadata": {},
   "outputs": [
    {
     "data": {
      "text/plain": [
       "Pipeline(steps=[('preprocessing',\n",
       "                 ColumnTransformer(transformers=[('minmaxscaler',\n",
       "                                                  MinMaxScaler(),\n",
       "                                                  ['num_of_prev_attempts',\n",
       "                                                   'studied_credits']),\n",
       "                                                 ('onehotencoder',\n",
       "                                                  OneHotEncoder(),\n",
       "                                                  ['code_module',\n",
       "                                                   'code_presentation',\n",
       "                                                   'gender', 'disability']),\n",
       "                                                 ('ordinalencoder',\n",
       "                                                  OrdinalEncoder(),\n",
       "                                                  ['highest_education',\n",
       "                                                   'imd_band', 'age_band'])])),\n",
       "                ('Ada', AdaBoostClassifier(random_state=8))])"
      ]
     },
     "execution_count": 41,
     "metadata": {},
     "output_type": "execute_result"
    }
   ],
   "source": [
    "pipe_Ada.fit(X_train,y_train)"
   ]
  },
  {
   "cell_type": "markdown",
   "metadata": {},
   "source": [
    "## Cross-Validate"
   ]
  },
  {
   "cell_type": "code",
   "execution_count": 43,
   "metadata": {},
   "outputs": [
    {
     "name": "stderr",
     "output_type": "stream",
     "text": [
      "[Parallel(n_jobs=-1)]: Using backend ThreadingBackend with 8 concurrent workers.\n",
      "[Parallel(n_jobs=-1)]: Done  34 tasks      | elapsed:    0.0s\n",
      "[Parallel(n_jobs=-1)]: Done 100 out of 100 | elapsed:    0.1s finished\n"
     ]
    }
   ],
   "source": [
    "# Cross-validate base model\n",
    "\n",
    "# prepare models and put it into list\n",
    "models = []\n",
    "models.append(('RF', pipe_RF))\n",
    "models.append(('Ada', pipe_Ada))\n",
    "models.append(('DT', pipe_DT))\n",
    "models.append(('SVM', pipe_SVM))\n",
    "\n",
    "# Create empty list to stores result\n",
    "names = []\n",
    "results = []\n",
    "mean_score = []\n",
    "stdev_score = []\n",
    "\n",
    "recall = make_scorer(recall_score, pos_label=\"Pass\")\n",
    "\n",
    "# Cross-validate each model\n",
    "for name, model in models:\n",
    "    model.fit(X_train,y_train)\n",
    "    scores = cross_val_score(model, X_train,y_train, scoring = recall, cv=5, n_jobs=-1)\n",
    "\n",
    "    names.append(name)\n",
    "    results.append(scores)\n",
    "    mean_score.append(scores.mean())\n",
    "    stdev_score.append(scores.std())\n",
    "\n",
    "cv_result = pd.DataFrame({'models':names, 'mean_score':mean_score, 'stdev_score':stdev_score})"
   ]
  },
  {
   "cell_type": "markdown",
   "metadata": {},
   "source": [
    "# 8 - Model Evaluation"
   ]
  },
  {
   "cell_type": "markdown",
   "metadata": {},
   "source": [
    "## Predict Base Model"
   ]
  },
  {
   "cell_type": "markdown",
   "metadata": {},
   "source": [
    "### Random Forest"
   ]
  },
  {
   "cell_type": "code",
   "execution_count": 44,
   "metadata": {},
   "outputs": [
    {
     "name": "stderr",
     "output_type": "stream",
     "text": [
      "[Parallel(n_jobs=8)]: Using backend ThreadingBackend with 8 concurrent workers.\n",
      "[Parallel(n_jobs=8)]: Done  34 tasks      | elapsed:    0.0s\n",
      "[Parallel(n_jobs=8)]: Done 100 out of 100 | elapsed:    0.0s finished\n",
      "[Parallel(n_jobs=8)]: Using backend ThreadingBackend with 8 concurrent workers.\n",
      "[Parallel(n_jobs=8)]: Done  34 tasks      | elapsed:    0.0s\n",
      "[Parallel(n_jobs=8)]: Done 100 out of 100 | elapsed:    0.0s finished\n"
     ]
    }
   ],
   "source": [
    "# predict\n",
    "y_train_pred_RF = pipe_RF.predict(X_train)\n",
    "y_test_pred_RF = pipe_RF.predict(X_test)"
   ]
  },
  {
   "cell_type": "markdown",
   "metadata": {},
   "source": [
    "#### Evaluation"
   ]
  },
  {
   "cell_type": "code",
   "execution_count": 45,
   "metadata": {},
   "outputs": [],
   "source": [
    "# Function Plotting Conffusion Matrix\n",
    "def plotConffusionMatrix(target, prediction, model):\n",
    "    cm = confusion_matrix(target, prediction, labels=model.classes_)\n",
    "    disp = ConfusionMatrixDisplay(confusion_matrix=cm, display_labels=model.classes_)\n",
    "    plt.figure(figsize=(10,10))\n",
    "    disp.plot(include_values=True, cmap='viridis')\n",
    "    plt.xlabel('Predicted')\n",
    "    plt.ylabel('Actual')\n",
    "    plt.show()\n",
    "\n",
    "def showClassificationReport(target_train, prediction_train, target_test, prediction_test):\n",
    "    print('==================== Train Results ====================')\n",
    "    print(classification_report(target_train,prediction_train))\n",
    "    print('==================== Test Results ====================')\n",
    "    print(classification_report(target_test,prediction_test))"
   ]
  },
  {
   "cell_type": "code",
   "execution_count": 46,
   "metadata": {},
   "outputs": [
    {
     "name": "stdout",
     "output_type": "stream",
     "text": [
      "Confusion Matrix for Train-set\n"
     ]
    },
    {
     "data": {
      "text/plain": [
       "<Figure size 720x720 with 0 Axes>"
      ]
     },
     "metadata": {},
     "output_type": "display_data"
    },
    {
     "data": {
      "image/png": "[encoded data removed]",
      "text/plain": [
       "<Figure size 432x288 with 2 Axes>"
      ]
     },
     "metadata": {
      "needs_background": "light"
     },
     "output_type": "display_data"
    },
    {
     "name": "stdout",
     "output_type": "stream",
     "text": [
      "Confusion Matrix for Test-set\n"
     ]
    },
    {
     "data": {
      "text/plain": [
       "<Figure size 720x720 with 0 Axes>"
      ]
     },
     "metadata": {},
     "output_type": "display_data"
    },
    {
     "data": {
      "image/png": "[encoded data removed]",
      "text/plain": [
       "<Figure size 432x288 with 2 Axes>"
      ]
     },
     "metadata": {
      "needs_background": "light"
     },
     "output_type": "display_data"
    },
    {
     "name": "stdout",
     "output_type": "stream",
     "text": [
      "==================== Train Results ====================\n",
      "              precision    recall  f1-score   support\n",
      "\n",
      "        Fail       0.80      0.66      0.72      5140\n",
      "        Pass       0.82      0.90      0.86      8912\n",
      "\n",
      "    accuracy                           0.81     14052\n",
      "   macro avg       0.81      0.78      0.79     14052\n",
      "weighted avg       0.81      0.81      0.81     14052\n",
      "\n",
      "==================== Test Results ====================\n",
      "              precision    recall  f1-score   support\n",
      "\n",
      "        Fail       0.48      0.37      0.41      1767\n",
      "        Pass       0.66      0.76      0.71      2918\n",
      "\n",
      "    accuracy                           0.61      4685\n",
      "   macro avg       0.57      0.56      0.56      4685\n",
      "weighted avg       0.59      0.61      0.60      4685\n",
      "\n"
     ]
    }
   ],
   "source": [
    "# Show Confussion Matrix and Classification Report for Train-set and Test-set\n",
    "print('Confusion Matrix for Train-set')\n",
    "plotConffusionMatrix(y_train,y_train_pred_RF,RF)\n",
    "print('Confusion Matrix for Test-set')\n",
    "plotConffusionMatrix(y_test,y_test_pred_RF,RF)\n",
    "showClassificationReport(y_train,y_train_pred_RF,y_test,y_test_pred_RF)"
   ]
  },
  {
   "cell_type": "markdown",
   "metadata": {},
   "source": [
    "Confussion Matrix\n",
    "\n",
    "- Train \n",
    "TP : 8048 TN: 3380 FP : 1760 : FN : 864\n",
    "\n",
    "- Test\n",
    "TP : 2220 TN: 645 FP : 1122 : FN : 698\n",
    "\n",
    "Recall:\n",
    "Model overfitt terlihat recal pada train 90 dan test 76\n"
   ]
  },
  {
   "cell_type": "markdown",
   "metadata": {},
   "source": [
    "#### Feature Importance"
   ]
  },
  {
   "cell_type": "code",
   "execution_count": 47,
   "metadata": {},
   "outputs": [],
   "source": [
    "def showFeatureImportance(model):\n",
    "    a = model.__getattribute__('feature_importances_')\n",
    "    a = pd.DataFrame(a)\n",
    "    a.sort_values(by=0, ascending=False, inplace=True)\n",
    "    b = a.T\n",
    "    b.rename(columns={0:'num_of_prev_attempts', 1: 'studied_credits',2:'AAA',\n",
    "                3:'BBB',4:'CCC',5:'DDD',6:'EEE',7:'FFF',8:'GGG',9:'2013J',10:'2014J',\n",
    "                11:'2013B',12:'2014B',13:'M',14:'F',15:'N',16:'Y',17:'highest_education',\n",
    "                18:'imd_band',19:'age_band'}, inplace=True)\n",
    "    a = b.T\n",
    "\n",
    "    return a"
   ]
  },
  {
   "cell_type": "code",
   "execution_count": 48,
   "metadata": {},
   "outputs": [
    {
     "data": {
      "text/html": [
       "<div>\n",
       "<style scoped>\n",
       "    .dataframe tbody tr th:only-of-type {\n",
       "        vertical-align: middle;\n",
       "    }\n",
       "\n",
       "    .dataframe tbody tr th {\n",
       "        vertical-align: top;\n",
       "    }\n",
       "\n",
       "    .dataframe thead th {\n",
       "        text-align: right;\n",
       "    }\n",
       "</style>\n",
       "<table border=\"1\" class=\"dataframe\">\n",
       "  <thead>\n",
       "    <tr style=\"text-align: right;\">\n",
       "      <th></th>\n",
       "      <th>0</th>\n",
       "    </tr>\n",
       "  </thead>\n",
       "  <tbody>\n",
       "    <tr>\n",
       "      <th>imd_band</th>\n",
       "      <td>0.350771</td>\n",
       "    </tr>\n",
       "    <tr>\n",
       "      <th>studied_credits</th>\n",
       "      <td>0.205855</td>\n",
       "    </tr>\n",
       "    <tr>\n",
       "      <th>highest_education</th>\n",
       "      <td>0.093755</td>\n",
       "    </tr>\n",
       "    <tr>\n",
       "      <th>age_band</th>\n",
       "      <td>0.057062</td>\n",
       "    </tr>\n",
       "    <tr>\n",
       "      <th>num_of_prev_attempts</th>\n",
       "      <td>0.056538</td>\n",
       "    </tr>\n",
       "    <tr>\n",
       "      <th>DDD</th>\n",
       "      <td>0.020992</td>\n",
       "    </tr>\n",
       "    <tr>\n",
       "      <th>FFF</th>\n",
       "      <td>0.020869</td>\n",
       "    </tr>\n",
       "    <tr>\n",
       "      <th>BBB</th>\n",
       "      <td>0.020433</td>\n",
       "    </tr>\n",
       "    <tr>\n",
       "      <th>2014B</th>\n",
       "      <td>0.018166</td>\n",
       "    </tr>\n",
       "    <tr>\n",
       "      <th>2014J</th>\n",
       "      <td>0.017661</td>\n",
       "    </tr>\n",
       "    <tr>\n",
       "      <th>2013B</th>\n",
       "      <td>0.016892</td>\n",
       "    </tr>\n",
       "    <tr>\n",
       "      <th>M</th>\n",
       "      <td>0.016816</td>\n",
       "    </tr>\n",
       "    <tr>\n",
       "      <th>F</th>\n",
       "      <td>0.016507</td>\n",
       "    </tr>\n",
       "    <tr>\n",
       "      <th>Y</th>\n",
       "      <td>0.015457</td>\n",
       "    </tr>\n",
       "    <tr>\n",
       "      <th>N</th>\n",
       "      <td>0.015222</td>\n",
       "    </tr>\n",
       "    <tr>\n",
       "      <th>2013J</th>\n",
       "      <td>0.013538</td>\n",
       "    </tr>\n",
       "    <tr>\n",
       "      <th>CCC</th>\n",
       "      <td>0.013034</td>\n",
       "    </tr>\n",
       "    <tr>\n",
       "      <th>EEE</th>\n",
       "      <td>0.012017</td>\n",
       "    </tr>\n",
       "    <tr>\n",
       "      <th>GGG</th>\n",
       "      <td>0.010305</td>\n",
       "    </tr>\n",
       "    <tr>\n",
       "      <th>AAA</th>\n",
       "      <td>0.008108</td>\n",
       "    </tr>\n",
       "  </tbody>\n",
       "</table>\n",
       "</div>"
      ],
      "text/plain": [
       "                             0\n",
       "imd_band              0.350771\n",
       "studied_credits       0.205855\n",
       "highest_education     0.093755\n",
       "age_band              0.057062\n",
       "num_of_prev_attempts  0.056538\n",
       "DDD                   0.020992\n",
       "FFF                   0.020869\n",
       "BBB                   0.020433\n",
       "2014B                 0.018166\n",
       "2014J                 0.017661\n",
       "2013B                 0.016892\n",
       "M                     0.016816\n",
       "F                     0.016507\n",
       "Y                     0.015457\n",
       "N                     0.015222\n",
       "2013J                 0.013538\n",
       "CCC                   0.013034\n",
       "EEE                   0.012017\n",
       "GGG                   0.010305\n",
       "AAA                   0.008108"
      ]
     },
     "execution_count": 48,
     "metadata": {},
     "output_type": "execute_result"
    }
   ],
   "source": [
    "showFeatureImportance(RF)"
   ]
  },
  {
   "cell_type": "markdown",
   "metadata": {},
   "source": [
    "### Decision Tree"
   ]
  },
  {
   "cell_type": "code",
   "execution_count": 49,
   "metadata": {},
   "outputs": [],
   "source": [
    "# predict\n",
    "y_train_pred_DT = pipe_DT.predict(X_train)\n",
    "y_test_pred_DT = pipe_DT.predict(X_test)"
   ]
  },
  {
   "cell_type": "markdown",
   "metadata": {},
   "source": [
    "#### Evaluation"
   ]
  },
  {
   "cell_type": "code",
   "execution_count": 50,
   "metadata": {},
   "outputs": [
    {
     "name": "stdout",
     "output_type": "stream",
     "text": [
      "Confusion Matrix for Train-set\n"
     ]
    },
    {
     "data": {
      "text/plain": [
       "<Figure size 720x720 with 0 Axes>"
      ]
     },
     "metadata": {},
     "output_type": "display_data"
    },
    {
     "data": {
      "image/png": "[encoded data removed]",
      "text/plain": [
       "<Figure size 432x288 with 2 Axes>"
      ]
     },
     "metadata": {
      "needs_background": "light"
     },
     "output_type": "display_data"
    },
    {
     "name": "stdout",
     "output_type": "stream",
     "text": [
      "Confusion Matrix for Test-set\n"
     ]
    },
    {
     "data": {
      "text/plain": [
       "<Figure size 720x720 with 0 Axes>"
      ]
     },
     "metadata": {},
     "output_type": "display_data"
    },
    {
     "data": {
      "image/png": "[encoded data removed]",
      "text/plain": [
       "<Figure size 432x288 with 2 Axes>"
      ]
     },
     "metadata": {
      "needs_background": "light"
     },
     "output_type": "display_data"
    },
    {
     "name": "stdout",
     "output_type": "stream",
     "text": [
      "==================== Train Results ====================\n",
      "              precision    recall  f1-score   support\n",
      "\n",
      "        Fail       0.74      0.75      0.75      5140\n",
      "        Pass       0.85      0.85      0.85      8912\n",
      "\n",
      "    accuracy                           0.81     14052\n",
      "   macro avg       0.80      0.80      0.80     14052\n",
      "weighted avg       0.81      0.81      0.81     14052\n",
      "\n",
      "==================== Test Results ====================\n",
      "              precision    recall  f1-score   support\n",
      "\n",
      "        Fail       0.44      0.45      0.44      1767\n",
      "        Pass       0.66      0.65      0.66      2918\n",
      "\n",
      "    accuracy                           0.57      4685\n",
      "   macro avg       0.55      0.55      0.55      4685\n",
      "weighted avg       0.58      0.57      0.58      4685\n",
      "\n"
     ]
    }
   ],
   "source": [
    "# Show Confussion Matrix and Classification Report for Train-set and Test-set\n",
    "print('Confusion Matrix for Train-set')\n",
    "plotConffusionMatrix(y_train,y_train_pred_DT,DT)\n",
    "print('Confusion Matrix for Test-set')\n",
    "plotConffusionMatrix(y_test,y_test_pred_RF,DT)\n",
    "showClassificationReport(y_train,y_train_pred_DT,y_test,y_test_pred_DT)"
   ]
  },
  {
   "cell_type": "markdown",
   "metadata": {},
   "source": [
    "Confussion Matrix\n",
    "\n",
    "- Train \n",
    "TP : 7577 TN: 3851 FP : 1289 : FN : 1335\n",
    "\n",
    "- Test\n",
    "TP : 2220 TN: 698 FP : 1122 : FN : 698\n",
    "\n",
    "Recall:\n",
    "Model overfitt terlihat recal pada train 85 dan test 65"
   ]
  },
  {
   "cell_type": "markdown",
   "metadata": {},
   "source": [
    "### SVM"
   ]
  },
  {
   "cell_type": "code",
   "execution_count": 51,
   "metadata": {},
   "outputs": [],
   "source": [
    "# predict\n",
    "y_train_pred_SVM = pipe_SVM.predict(X_train)\n",
    "y_test_pred_SVM = pipe_SVM.predict(X_test)"
   ]
  },
  {
   "cell_type": "markdown",
   "metadata": {},
   "source": [
    "#### Evaluation"
   ]
  },
  {
   "cell_type": "code",
   "execution_count": 52,
   "metadata": {},
   "outputs": [
    {
     "name": "stdout",
     "output_type": "stream",
     "text": [
      "Confusion Matrix for Train-set\n"
     ]
    },
    {
     "data": {
      "text/plain": [
       "<Figure size 720x720 with 0 Axes>"
      ]
     },
     "metadata": {},
     "output_type": "display_data"
    },
    {
     "data": {
      "image/png": "[encoded data removed]",
      "text/plain": [
       "<Figure size 432x288 with 2 Axes>"
      ]
     },
     "metadata": {
      "needs_background": "light"
     },
     "output_type": "display_data"
    },
    {
     "name": "stdout",
     "output_type": "stream",
     "text": [
      "Confusion Matrix for Test-set\n"
     ]
    },
    {
     "data": {
      "text/plain": [
       "<Figure size 720x720 with 0 Axes>"
      ]
     },
     "metadata": {},
     "output_type": "display_data"
    },
    {
     "data": {
      "image/png": "[encoded data removed]",
      "text/plain": [
       "<Figure size 432x288 with 2 Axes>"
      ]
     },
     "metadata": {
      "needs_background": "light"
     },
     "output_type": "display_data"
    },
    {
     "name": "stdout",
     "output_type": "stream",
     "text": [
      "==================== Train Results ====================\n",
      "              precision    recall  f1-score   support\n",
      "\n",
      "        Fail       0.61      0.10      0.17      5140\n",
      "        Pass       0.65      0.96      0.78      8912\n",
      "\n",
      "    accuracy                           0.65     14052\n",
      "   macro avg       0.63      0.53      0.47     14052\n",
      "weighted avg       0.63      0.65      0.55     14052\n",
      "\n",
      "==================== Test Results ====================\n",
      "              precision    recall  f1-score   support\n",
      "\n",
      "        Fail       0.68      0.12      0.20      1767\n",
      "        Pass       0.64      0.97      0.77      2918\n",
      "\n",
      "    accuracy                           0.65      4685\n",
      "   macro avg       0.66      0.54      0.49      4685\n",
      "weighted avg       0.66      0.65      0.56      4685\n",
      "\n"
     ]
    }
   ],
   "source": [
    "# Show Confussion Matrix and Classification Report for Train-set and Test-set\n",
    "print('Confusion Matrix for Train-set')\n",
    "plotConffusionMatrix(y_train,y_train_pred_SVM,SVM)\n",
    "print('Confusion Matrix for Test-set')\n",
    "plotConffusionMatrix(y_test,y_test_pred_SVM,SVM)\n",
    "showClassificationReport(y_train,y_train_pred_SVM,y_test,y_test_pred_SVM)"
   ]
  },
  {
   "cell_type": "markdown",
   "metadata": {},
   "source": [
    "Confussion Matrix\n",
    "\n",
    "- Train \n",
    "TP : 8590 TN: 497 FP : 4643 : FN : 322\n",
    "\n",
    "- Test\n",
    "TP : 2822 TN: 205 FP : 1562 : FN : 96\n",
    "\n",
    "Recall:\n",
    "Model sudah goodfit terlihat recal pada train 96 dan test 97"
   ]
  },
  {
   "cell_type": "markdown",
   "metadata": {},
   "source": [
    "### AdaBoost"
   ]
  },
  {
   "cell_type": "code",
   "execution_count": 53,
   "metadata": {},
   "outputs": [],
   "source": [
    "# predict\n",
    "y_train_pred_Ada = pipe_Ada.predict(X_train)\n",
    "y_test_pred_Ada = pipe_Ada.predict(X_test)"
   ]
  },
  {
   "cell_type": "markdown",
   "metadata": {},
   "source": [
    "#### Evaluation"
   ]
  },
  {
   "cell_type": "code",
   "execution_count": 54,
   "metadata": {},
   "outputs": [
    {
     "name": "stdout",
     "output_type": "stream",
     "text": [
      "Confusion Matrix for Train-set\n"
     ]
    },
    {
     "data": {
      "text/plain": [
       "<Figure size 720x720 with 0 Axes>"
      ]
     },
     "metadata": {},
     "output_type": "display_data"
    },
    {
     "data": {
      "image/png": "[encoded data removed]",
      "text/plain": [
       "<Figure size 432x288 with 2 Axes>"
      ]
     },
     "metadata": {
      "needs_background": "light"
     },
     "output_type": "display_data"
    },
    {
     "name": "stdout",
     "output_type": "stream",
     "text": [
      "Confusion Matrix for Test-set\n"
     ]
    },
    {
     "data": {
      "text/plain": [
       "<Figure size 720x720 with 0 Axes>"
      ]
     },
     "metadata": {},
     "output_type": "display_data"
    },
    {
     "data": {
      "image/png": "[encoded data removed]",
      "text/plain": [
       "<Figure size 432x288 with 2 Axes>"
      ]
     },
     "metadata": {
      "needs_background": "light"
     },
     "output_type": "display_data"
    },
    {
     "name": "stdout",
     "output_type": "stream",
     "text": [
      "==================== Train Results ====================\n",
      "              precision    recall  f1-score   support\n",
      "\n",
      "        Fail       0.56      0.22      0.32      5140\n",
      "        Pass       0.67      0.90      0.77      8912\n",
      "\n",
      "    accuracy                           0.65     14052\n",
      "   macro avg       0.62      0.56      0.54     14052\n",
      "weighted avg       0.63      0.65      0.60     14052\n",
      "\n",
      "==================== Test Results ====================\n",
      "              precision    recall  f1-score   support\n",
      "\n",
      "        Fail       0.58      0.23      0.33      1767\n",
      "        Pass       0.66      0.90      0.76      2918\n",
      "\n",
      "    accuracy                           0.65      4685\n",
      "   macro avg       0.62      0.56      0.55      4685\n",
      "weighted avg       0.63      0.65      0.60      4685\n",
      "\n"
     ]
    }
   ],
   "source": [
    "# Show Confussion Matrix and Classification Report for Train-set and Test-set\n",
    "print('Confusion Matrix for Train-set')\n",
    "plotConffusionMatrix(y_train,y_train_pred_Ada,Ada)\n",
    "print('Confusion Matrix for Test-set')\n",
    "plotConffusionMatrix(y_test,y_test_pred_Ada,Ada)\n",
    "showClassificationReport(y_train,y_train_pred_Ada,y_test,y_test_pred_Ada)"
   ]
  },
  {
   "cell_type": "markdown",
   "metadata": {},
   "source": [
    "Confussion Matrix\n",
    "\n",
    "- Train \n",
    "TP : 8042 TN: 1125 FP : 4015 : FN : 870\n",
    "\n",
    "- Test\n",
    "TP : 2621 TN: 408 FP : 1359 : FN : 297\n",
    "\n",
    "Recall:\n",
    "Model sudah goodfit terlihat recal pada train 90 dan test 90"
   ]
  },
  {
   "cell_type": "markdown",
   "metadata": {},
   "source": [
    "## Cross -Validate Result"
   ]
  },
  {
   "cell_type": "code",
   "execution_count": 55,
   "metadata": {},
   "outputs": [
    {
     "data": {
      "text/html": [
       "<div>\n",
       "<style scoped>\n",
       "    .dataframe tbody tr th:only-of-type {\n",
       "        vertical-align: middle;\n",
       "    }\n",
       "\n",
       "    .dataframe tbody tr th {\n",
       "        vertical-align: top;\n",
       "    }\n",
       "\n",
       "    .dataframe thead th {\n",
       "        text-align: right;\n",
       "    }\n",
       "</style>\n",
       "<table border=\"1\" class=\"dataframe\">\n",
       "  <thead>\n",
       "    <tr style=\"text-align: right;\">\n",
       "      <th></th>\n",
       "      <th>models</th>\n",
       "      <th>mean_score</th>\n",
       "      <th>stdev_score</th>\n",
       "    </tr>\n",
       "  </thead>\n",
       "  <tbody>\n",
       "    <tr>\n",
       "      <th>3</th>\n",
       "      <td>SVM</td>\n",
       "      <td>0.963758</td>\n",
       "      <td>0.006102</td>\n",
       "    </tr>\n",
       "    <tr>\n",
       "      <th>1</th>\n",
       "      <td>Ada</td>\n",
       "      <td>0.902381</td>\n",
       "      <td>0.012113</td>\n",
       "    </tr>\n",
       "    <tr>\n",
       "      <th>0</th>\n",
       "      <td>RF</td>\n",
       "      <td>0.725987</td>\n",
       "      <td>0.005727</td>\n",
       "    </tr>\n",
       "    <tr>\n",
       "      <th>2</th>\n",
       "      <td>DT</td>\n",
       "      <td>0.636333</td>\n",
       "      <td>0.006670</td>\n",
       "    </tr>\n",
       "  </tbody>\n",
       "</table>\n",
       "</div>"
      ],
      "text/plain": [
       "  models  mean_score  stdev_score\n",
       "3    SVM    0.963758     0.006102\n",
       "1    Ada    0.902381     0.012113\n",
       "0     RF    0.725987     0.005727\n",
       "2     DT    0.636333     0.006670"
      ]
     },
     "execution_count": 55,
     "metadata": {},
     "output_type": "execute_result"
    }
   ],
   "source": [
    "# Showing the result\n",
    "cv_result.sort_values(by='mean_score', ascending=False)"
   ]
  },
  {
   "cell_type": "code",
   "execution_count": 56,
   "metadata": {},
   "outputs": [
    {
     "data": {
      "text/html": [
       "<div>\n",
       "<style scoped>\n",
       "    .dataframe tbody tr th:only-of-type {\n",
       "        vertical-align: middle;\n",
       "    }\n",
       "\n",
       "    .dataframe tbody tr th {\n",
       "        vertical-align: top;\n",
       "    }\n",
       "\n",
       "    .dataframe thead th {\n",
       "        text-align: right;\n",
       "    }\n",
       "</style>\n",
       "<table border=\"1\" class=\"dataframe\">\n",
       "  <thead>\n",
       "    <tr style=\"text-align: right;\">\n",
       "      <th></th>\n",
       "      <th>models</th>\n",
       "      <th>mean_score</th>\n",
       "      <th>stdev_score</th>\n",
       "    </tr>\n",
       "  </thead>\n",
       "  <tbody>\n",
       "    <tr>\n",
       "      <th>0</th>\n",
       "      <td>RF</td>\n",
       "      <td>0.725987</td>\n",
       "      <td>0.005727</td>\n",
       "    </tr>\n",
       "    <tr>\n",
       "      <th>3</th>\n",
       "      <td>SVM</td>\n",
       "      <td>0.963758</td>\n",
       "      <td>0.006102</td>\n",
       "    </tr>\n",
       "    <tr>\n",
       "      <th>2</th>\n",
       "      <td>DT</td>\n",
       "      <td>0.636333</td>\n",
       "      <td>0.006670</td>\n",
       "    </tr>\n",
       "    <tr>\n",
       "      <th>1</th>\n",
       "      <td>Ada</td>\n",
       "      <td>0.902381</td>\n",
       "      <td>0.012113</td>\n",
       "    </tr>\n",
       "  </tbody>\n",
       "</table>\n",
       "</div>"
      ],
      "text/plain": [
       "  models  mean_score  stdev_score\n",
       "0     RF    0.725987     0.005727\n",
       "3    SVM    0.963758     0.006102\n",
       "2     DT    0.636333     0.006670\n",
       "1    Ada    0.902381     0.012113"
      ]
     },
     "execution_count": 56,
     "metadata": {},
     "output_type": "execute_result"
    }
   ],
   "source": [
    "cv_result.sort_values(by='stdev_score', ascending=True)"
   ]
  },
  {
   "cell_type": "markdown",
   "metadata": {},
   "source": [
    "Terlihat bahwa kita kita fit dengan scroos validation model SVM yang mungkin paling bagus.\n",
    "Untuk itu marikita tunning hyperparameter dari setiap algortima SVM dan mari kita coba algoritma Random Forest"
   ]
  },
  {
   "cell_type": "markdown",
   "metadata": {},
   "source": [
    "## Hyperparameter Tunning"
   ]
  },
  {
   "cell_type": "markdown",
   "metadata": {},
   "source": [
    "### Random Forest"
   ]
  },
  {
   "cell_type": "code",
   "execution_count": 57,
   "metadata": {},
   "outputs": [
    {
     "name": "stdout",
     "output_type": "stream",
     "text": [
      "Fitting 5 folds for each of 36 candidates, totalling 180 fits\n"
     ]
    }
   ],
   "source": [
    "# Hyperparameter tuning\n",
    "grid_RF = GridSearchCV(pipe_RF, params_RF, cv=5, n_jobs=-1, verbose=1, refit=False)\n",
    "\n",
    "grid_RF.fit(X_train, y_train)\n",
    "\n",
    "best_params_RF = grid_RF.best_params_\n",
    "df_result_RF = pd.DataFrame.from_dict(grid_RF.cv_results_, orient='columns')"
   ]
  },
  {
   "cell_type": "code",
   "execution_count": 58,
   "metadata": {},
   "outputs": [
    {
     "data": {
      "text/plain": [
       "{'RF__criterion': 'gini',\n",
       " 'RF__max_features': 'auto',\n",
       " 'RF__min_samples_split': 64}"
      ]
     },
     "execution_count": 58,
     "metadata": {},
     "output_type": "execute_result"
    }
   ],
   "source": [
    "best_params_RF"
   ]
  },
  {
   "cell_type": "markdown",
   "metadata": {},
   "source": [
    "#### Predict with best parameter"
   ]
  },
  {
   "cell_type": "code",
   "execution_count": 59,
   "metadata": {},
   "outputs": [],
   "source": [
    "RF_hyper = RandomForestClassifier(criterion='gini', max_features='auto', min_samples_leaf=64, random_state=8)\n",
    "\n",
    "# Model Pipeline\n",
    "pipe_RF_hyper = Pipeline([\n",
    "    ('preprocessing', scaler_encode),\n",
    "    ('RF', RF_hyper)\n",
    "])"
   ]
  },
  {
   "cell_type": "code",
   "execution_count": 60,
   "metadata": {},
   "outputs": [
    {
     "data": {
      "text/plain": [
       "Pipeline(steps=[('preprocessing',\n",
       "                 ColumnTransformer(transformers=[('minmaxscaler',\n",
       "                                                  MinMaxScaler(),\n",
       "                                                  ['num_of_prev_attempts',\n",
       "                                                   'studied_credits']),\n",
       "                                                 ('onehotencoder',\n",
       "                                                  OneHotEncoder(),\n",
       "                                                  ['code_module',\n",
       "                                                   'code_presentation',\n",
       "                                                   'gender', 'disability']),\n",
       "                                                 ('ordinalencoder',\n",
       "                                                  OrdinalEncoder(),\n",
       "                                                  ['highest_education',\n",
       "                                                   'imd_band', 'age_band'])])),\n",
       "                ('RF',\n",
       "                 RandomForestClassifier(min_samples_leaf=64, random_state=8))])"
      ]
     },
     "execution_count": 60,
     "metadata": {},
     "output_type": "execute_result"
    }
   ],
   "source": [
    "pipe_RF_hyper.fit(X_train, y_train)"
   ]
  },
  {
   "cell_type": "code",
   "execution_count": 61,
   "metadata": {},
   "outputs": [],
   "source": [
    "y_train_pred_RF_hyper = pipe_RF_hyper.predict(X_train)\n",
    "y_test_pred_RF_hyper = pipe_RF_hyper.predict(X_test)"
   ]
  },
  {
   "cell_type": "markdown",
   "metadata": {},
   "source": [
    "#### Evaluation"
   ]
  },
  {
   "cell_type": "code",
   "execution_count": 62,
   "metadata": {},
   "outputs": [
    {
     "name": "stdout",
     "output_type": "stream",
     "text": [
      "Confusion Matrix for Train-set\n"
     ]
    },
    {
     "data": {
      "text/plain": [
       "<Figure size 720x720 with 0 Axes>"
      ]
     },
     "metadata": {},
     "output_type": "display_data"
    },
    {
     "data": {
      "image/png": "[encoded data removed]",
      "text/plain": [
       "<Figure size 432x288 with 2 Axes>"
      ]
     },
     "metadata": {
      "needs_background": "light"
     },
     "output_type": "display_data"
    },
    {
     "name": "stdout",
     "output_type": "stream",
     "text": [
      "Confusion Matrix for Test-set\n"
     ]
    },
    {
     "data": {
      "text/plain": [
       "<Figure size 720x720 with 0 Axes>"
      ]
     },
     "metadata": {},
     "output_type": "display_data"
    },
    {
     "data": {
      "image/png": "[encoded data removed]",
      "text/plain": [
       "<Figure size 432x288 with 2 Axes>"
      ]
     },
     "metadata": {
      "needs_background": "light"
     },
     "output_type": "display_data"
    },
    {
     "name": "stdout",
     "output_type": "stream",
     "text": [
      "==================== Train Results ====================\n",
      "              precision    recall  f1-score   support\n",
      "\n",
      "        Fail       0.63      0.15      0.24      5140\n",
      "        Pass       0.66      0.95      0.78      8912\n",
      "\n",
      "    accuracy                           0.66     14052\n",
      "   macro avg       0.64      0.55      0.51     14052\n",
      "weighted avg       0.65      0.66      0.58     14052\n",
      "\n",
      "==================== Test Results ====================\n",
      "              precision    recall  f1-score   support\n",
      "\n",
      "        Fail       0.65      0.15      0.24      1767\n",
      "        Pass       0.65      0.95      0.77      2918\n",
      "\n",
      "    accuracy                           0.65      4685\n",
      "   macro avg       0.65      0.55      0.51      4685\n",
      "weighted avg       0.65      0.65      0.57      4685\n",
      "\n"
     ]
    }
   ],
   "source": [
    "# Show Confussion Matrix and Classification Report for Train-set and Test-set\n",
    "print('Confusion Matrix for Train-set')\n",
    "plotConffusionMatrix(y_train,y_train_pred_RF_hyper,RF_hyper)\n",
    "print('Confusion Matrix for Test-set')\n",
    "plotConffusionMatrix(y_test,y_test_pred_RF_hyper,RF_hyper)\n",
    "showClassificationReport(y_train,y_train_pred_RF_hyper,y_test,y_test_pred_RF_hyper)"
   ]
  },
  {
   "cell_type": "markdown",
   "metadata": {},
   "source": [
    "Confussion Matrix\n",
    "\n",
    "- Train \n",
    "TP : 8473 TN: 746 FP : 4394 : FN : 439\n",
    "\n",
    "- Test\n",
    "TP : 2775 TN: 264 FP : 1503 : FN : 143\n",
    "\n",
    "Terlihat model semakin baik menangai FN nya dimana FN mengalami penurunan dari base Moeel\n",
    "\n",
    "\n",
    "Recall:\n",
    "Model mengalami perubahan dimana pada base model \n",
    "model overfit namun setelah hyperparameter tunning model overfitt terlihat reccal train 95 dan recal test 95"
   ]
  },
  {
   "cell_type": "markdown",
   "metadata": {},
   "source": [
    "### SVM"
   ]
  },
  {
   "cell_type": "code",
   "execution_count": 63,
   "metadata": {},
   "outputs": [
    {
     "name": "stdout",
     "output_type": "stream",
     "text": [
      "Fitting 5 folds for each of 4 candidates, totalling 20 fits\n"
     ]
    }
   ],
   "source": [
    "# Hyperparameter tuning\n",
    "grid_SVM = GridSearchCV(pipe_SVM, params_SVM, cv=5, n_jobs=-1, verbose=1, refit=False)\n",
    "\n",
    "grid_SVM.fit(X_train, y_train)\n",
    "\n",
    "best_params_SVM = grid_SVM.best_params_\n",
    "df_result_SVM = pd.DataFrame.from_dict(grid_SVM.cv_results_, orient='columns')"
   ]
  },
  {
   "cell_type": "code",
   "execution_count": 64,
   "metadata": {},
   "outputs": [
    {
     "data": {
      "text/plain": [
       "{'SVM__C': 1000, 'SVM__gamma': 0.01, 'SVM__kernel': 'rbf'}"
      ]
     },
     "execution_count": 64,
     "metadata": {},
     "output_type": "execute_result"
    }
   ],
   "source": [
    "best_params_SVM"
   ]
  },
  {
   "cell_type": "markdown",
   "metadata": {},
   "source": [
    "#### Predict with best parameter"
   ]
  },
  {
   "cell_type": "code",
   "execution_count": 65,
   "metadata": {},
   "outputs": [],
   "source": [
    "SVM_hyper = SVC(random_state=random_state, C=1000, kernel='rbf', gamma=0.01)\n",
    "\n",
    "pipe_SVM_hyper = Pipeline([\n",
    "    ('preprocessing', scaler_encode),\n",
    "    ('SVM_hyper', SVM_hyper)\n",
    "])"
   ]
  },
  {
   "cell_type": "code",
   "execution_count": 66,
   "metadata": {},
   "outputs": [
    {
     "data": {
      "text/plain": [
       "Pipeline(steps=[('preprocessing',\n",
       "                 ColumnTransformer(transformers=[('minmaxscaler',\n",
       "                                                  MinMaxScaler(),\n",
       "                                                  ['num_of_prev_attempts',\n",
       "                                                   'studied_credits']),\n",
       "                                                 ('onehotencoder',\n",
       "                                                  OneHotEncoder(),\n",
       "                                                  ['code_module',\n",
       "                                                   'code_presentation',\n",
       "                                                   'gender', 'disability']),\n",
       "                                                 ('ordinalencoder',\n",
       "                                                  OrdinalEncoder(),\n",
       "                                                  ['highest_education',\n",
       "                                                   'imd_band', 'age_band'])])),\n",
       "                ('SVM_hyper', SVC(C=1000, gamma=0.01, random_state=8))])"
      ]
     },
     "execution_count": 66,
     "metadata": {},
     "output_type": "execute_result"
    }
   ],
   "source": [
    "pipe_SVM_hyper.fit(X_train, y_train)"
   ]
  },
  {
   "cell_type": "code",
   "execution_count": 67,
   "metadata": {},
   "outputs": [],
   "source": [
    "y_train_pred_SVM_hyper = pipe_SVM_hyper.predict(X_train)\n",
    "y_test_pred_SVM_hyper = pipe_SVM_hyper.predict(X_test)"
   ]
  },
  {
   "cell_type": "markdown",
   "metadata": {},
   "source": [
    "#### Evaluation"
   ]
  },
  {
   "cell_type": "code",
   "execution_count": 68,
   "metadata": {},
   "outputs": [
    {
     "name": "stdout",
     "output_type": "stream",
     "text": [
      "Confusion Matrix for Train-set\n"
     ]
    },
    {
     "data": {
      "text/plain": [
       "<Figure size 720x720 with 0 Axes>"
      ]
     },
     "metadata": {},
     "output_type": "display_data"
    },
    {
     "data": {
      "image/png": "[encoded data removed]",
      "text/plain": [
       "<Figure size 432x288 with 2 Axes>"
      ]
     },
     "metadata": {
      "needs_background": "light"
     },
     "output_type": "display_data"
    },
    {
     "name": "stdout",
     "output_type": "stream",
     "text": [
      "Confusion Matrix for Test-set\n"
     ]
    },
    {
     "data": {
      "text/plain": [
       "<Figure size 720x720 with 0 Axes>"
      ]
     },
     "metadata": {},
     "output_type": "display_data"
    },
    {
     "data": {
      "image/png": "[encoded data removed]",
      "text/plain": [
       "<Figure size 432x288 with 2 Axes>"
      ]
     },
     "metadata": {
      "needs_background": "light"
     },
     "output_type": "display_data"
    },
    {
     "name": "stdout",
     "output_type": "stream",
     "text": [
      "==================== Train Results ====================\n",
      "              precision    recall  f1-score   support\n",
      "\n",
      "        Fail       0.63      0.14      0.23      5140\n",
      "        Pass       0.66      0.95      0.78      8912\n",
      "\n",
      "    accuracy                           0.66     14052\n",
      "   macro avg       0.64      0.55      0.50     14052\n",
      "weighted avg       0.65      0.66      0.58     14052\n",
      "\n",
      "==================== Test Results ====================\n",
      "              precision    recall  f1-score   support\n",
      "\n",
      "        Fail       0.64      0.15      0.24      1767\n",
      "        Pass       0.65      0.95      0.77      2918\n",
      "\n",
      "    accuracy                           0.65      4685\n",
      "   macro avg       0.64      0.55      0.51      4685\n",
      "weighted avg       0.65      0.65      0.57      4685\n",
      "\n"
     ]
    }
   ],
   "source": [
    "# Show Confussion Matrix and Classification Report for Train-set and Test-set\n",
    "print('Confusion Matrix for Train-set')\n",
    "plotConffusionMatrix(y_train,y_train_pred_SVM_hyper,SVM_hyper)\n",
    "print('Confusion Matrix for Test-set')\n",
    "plotConffusionMatrix(y_test,y_test_pred_SVM_hyper,SVM_hyper)\n",
    "showClassificationReport(y_train,y_train_pred_SVM_hyper,y_test,y_test_pred_SVM_hyper)"
   ]
  },
  {
   "cell_type": "markdown",
   "metadata": {},
   "source": [
    "Confussion Matrix\n",
    "\n",
    "- Train \n",
    "TP : 8482 TN: 728 FP : 4412 : FN : 728\n",
    "\n",
    "- Test\n",
    "TP : 2771 TN: 263 FP : 1504 : FN : 147\n",
    "\n",
    "Terlihat model malah malah semakin turun performanya dalam menangani FNnya dimana pada base Model FN pada Train set 322 namun setelah hyperparameter tunning FN bertambah jadi 728\n",
    "begitu juga dengan testnya.\n",
    "\n",
    "\n",
    "Recall:\n",
    "Terlihat dai recallnya yagn turun dari base model namun memang sudah good fit"
   ]
  },
  {
   "cell_type": "markdown",
   "metadata": {},
   "source": [
    "Bedasarkan analisis yang kita lihat objective kita adalah mencari model yang baik dalam menangani kasus ketika model salah memprediksi student yang sebenenarnya lulus tapi terprediksi tidak lulus.\n",
    "\n",
    "Maka Random Forest merupakan algoritma yang terbaik yang sesuai dengan objective kita."
   ]
  },
  {
   "cell_type": "markdown",
   "metadata": {},
   "source": [
    "Untuk itu marik kita lakukan Model Inference untuk melihat bagaimana model terhadap data baru"
   ]
  },
  {
   "cell_type": "markdown",
   "metadata": {},
   "source": [
    "## Saving Model"
   ]
  },
  {
   "cell_type": "code",
   "execution_count": null,
   "metadata": {},
   "outputs": [],
   "source": [
    "with open('RF_hyper.pkl', 'wb') as f:\n",
    "    pickle.dump(pipe_RF_hyper, f)"
   ]
  },
  {
   "cell_type": "markdown",
   "metadata": {},
   "source": [
    "# 9 - Model Inference"
   ]
  },
  {
   "cell_type": "markdown",
   "metadata": {},
   "source": [
    "## Load Model"
   ]
  },
  {
   "cell_type": "code",
   "execution_count": 69,
   "metadata": {},
   "outputs": [],
   "source": [
    "# load Model\n",
    "with open('RF_hyper.pkl', 'rb') as f:\n",
    "    rf_model = pickle.load(f)"
   ]
  },
  {
   "cell_type": "markdown",
   "metadata": {},
   "source": [
    "## Inference"
   ]
  },
  {
   "cell_type": "code",
   "execution_count": 70,
   "metadata": {},
   "outputs": [],
   "source": [
    "X_inf = df_inf.drop(['final_result'], axis=1)\n",
    "y_inf = df_inf['final_result']"
   ]
  },
  {
   "cell_type": "code",
   "execution_count": 72,
   "metadata": {},
   "outputs": [],
   "source": [
    "y_pred_inf = rf_model.predict(X_inf)"
   ]
  },
  {
   "cell_type": "code",
   "execution_count": 73,
   "metadata": {},
   "outputs": [
    {
     "name": "stdout",
     "output_type": "stream",
     "text": [
      "Confusion Matrix for Train-set\n"
     ]
    },
    {
     "data": {
      "text/plain": [
       "<Figure size 720x720 with 0 Axes>"
      ]
     },
     "metadata": {},
     "output_type": "display_data"
    },
    {
     "data": {
      "image/png": "[encoded data removed]",
      "text/plain": [
       "<Figure size 432x288 with 2 Axes>"
      ]
     },
     "metadata": {
      "needs_background": "light"
     },
     "output_type": "display_data"
    }
   ],
   "source": [
    "print('Confusion Matrix for Train-set')\n",
    "plotConffusionMatrix(y_inf,y_pred_inf,rf_model)"
   ]
  },
  {
   "cell_type": "markdown",
   "metadata": {},
   "source": [
    "Masing terlihat jika terdapat 33 siswa yang terprediksi salah, untuk itu model masih bisa dilakukan training lebih baik lagi."
   ]
  },
  {
   "cell_type": "markdown",
   "metadata": {},
   "source": [
    "# 10 - Pengambilan Kesimpulan"
   ]
  },
  {
   "cell_type": "markdown",
   "metadata": {},
   "source": [
    "## Hasil EDA\n",
    "- Setelah kita memilih target kita , kita bisa melihat bahwa terdapat 19413 baris dan 11 kolom .\n",
    "Semua attribut adalah object kecuali kolom **id_student**, **num_of_prev_attempts**, dan **studied_credits**. \n",
    "Terlihat juga bahwa semua colum terisi sesui dengan banyaknya baris yang mengindikasi tidak ada Missing Values. \n",
    "\n",
    "- id_student, mungkin berfungsi sebagai index, karena pada dasarnya setiap student pasti berbeda idnya\n",
    "\n",
    "    number_of_prev_attempts, terlihat dari 25%, 50%, dan 75% quartile bernilai 0 dimana bisa diasumsikan student baru pertama kali mengikuti module namun terdappat juga student yang sudah 6 kali mengambil modul tertentu terlihat dari nilai maxnya\n",
    "\n",
    "    studied_credits, student memiliki rata-rata 74 credit , yang dangat jauh dari student yang memiliki credits tertinggi yaitu 630.\n",
    "\n",
    "    Mari kita cek apakah terdapat baris yang terduplikat pada data ini.\n",
    "\n",
    "- Terlihat perbedaan yang lumayan signifikan antara student yang lulus dengan yang tidak dimana student yang lulus ada 63,7% dan student yang tidak lulus terdapat 36,3%.\n",
    "\n",
    "- Untuk kolom numerik ternyata berdistribusi skew terlihatt data berkumpul disebelah kiri. \n",
    "Mayoritas student juga merupakan student yang baru pertama kali mengambil module yang mereka ambil . Credit student mayoritas juga berada pada range 0 - 200.\n",
    "\n",
    "- Module BBB merupakan module yang paling banyak di ambil oleh student dimana presentasi 2014j yang paling banyak diambil. Student juga lebih banyak pria dibanding wanita. \n",
    "Tempat tinggal Student yang mengikuti module paling banyak dari region scotlandia dan paling sedikit berada di Ireland dan North Region\n",
    "\n",
    "- Edukasi para siswa berbeda tipis antara siswa yang sudah cukup dengan level modul dan lebih rendah dari level modul. Hal ini mungkin bisa \n",
    "terlihat dari imd_band yaitu tingkat kebobrokan wilayah beradarkan tempat tinggal mereka dimana 3 teratas memiliki tingkat keborokan antara 10-40 %. \n",
    "Tentu saja mayoritas umur yang wajar dalam universitas dimana umur terbanyak berada pada range 0-35, dan ternyata terdapat 9% student yang disabilitas\n",
    "\n",
    "- Memang modul BBB bisa dibilang modul yang terending karena banyak student yang mengambil \n",
    "module tersebut begitu pula dengan hasil kelulusan mereka dimana banyak yang berhasil dari module ini dan banyak juga yang tidak berhasil.\n",
    "\n",
    "- Region Scotland memangkan perikat dimana region dengan student yang paling banyak lulus dan student yang paling banyak tidak lulusnya\n",
    "\n",
    "- cukup mengejutkan bahwa student yang paling banyak lulus merupakan student dengan edukasi yang belum setara dengan universitas\n",
    "\n",
    "- Memang tempat belum tentu membuat kita berhasil terlihat dimana wilayah yang memiliki tingkat kebobrokan paling rendah yaitu range \n",
    "0-10% bukanlah student yang paling banyak lulus, bisa dilihat dari grafik bahwa tingkat kebobrokan menengah yang paling banyak lulus.\n"
   ]
  },
  {
   "cell_type": "markdown",
   "metadata": {},
   "source": [
    "## Hasil Model"
   ]
  },
  {
   "cell_type": "markdown",
   "metadata": {},
   "source": [
    "- Pada Training menggunakan base parameter dan kita lakukan cross validaion kita mendapatkan bahwa model SVM merupakan model yang mendekati objektif, namun kita melihat ketika kita training satu-satu modelnya dengan tetap base parameter kita mendapatkan model SVM memang cukup baik namun model Random Forest juga cukup baik namun masih overfit memang.\n",
    "\n",
    "SVM Base Model\n",
    "\n",
    "    Confussion Matrix\n",
    "\n",
    "    - Train \n",
    "    TP : 8590 TN: 497 FP : 4643 : FN : 322\n",
    "\n",
    "    - Test\n",
    "    TP : 2822 TN: 205 FP : 1562 : FN : 96\n",
    "\n",
    "    Recall:\n",
    "    Model sudah goodfit terlihat recal pada train 96 dan test 97\n",
    "\n",
    "Random Forest Base Model\n",
    "\n",
    "    - Train \n",
    "    TP : 8048 TN: 3380 FP : 1760 : FN : 864\n",
    "\n",
    "    - Test\n",
    "    TP : 2220 TN: 645 FP : 1122 : FN : 698\n",
    "\n",
    "    Recall:\n",
    "    Model overfitt terlihat recal pada train 90 dan test 76\n",
    "\n",
    "Untuk itu kita melakukan hyper parameter Tunning pada kedua model dan menemukan bahwa model SVM mengalami penurunan performa sedangkan model Random Forrest Mengalami kenaikan performa dan menjadi goodfit model\n",
    "\n",
    "SVM Hyperparameter\n",
    "\n",
    "Confussion Matrix\n",
    "\n",
    "    - Train \n",
    "    TP : 8482 TN: 728 FP : 4412 : FN : 728\n",
    "\n",
    "    - Test\n",
    "    TP : 2771 TN: 263 FP : 1504 : FN : 147\n",
    "\n",
    "    Terlihat model malah malah semakin turun performanya dalam menangani FNnya dimana pada base Model FN pada Train set 322 namun setelah hyperparameter tunning FN bertambah jadi 728\n",
    "    begitu juga dengan testnya.\n",
    "\n",
    "Random Forrest HyperParameter\n",
    "\n",
    "Confussion Matrix\n",
    "\n",
    "    - Train \n",
    "    TP : 8473 TN: 746 FP : 4394 : FN : 439\n",
    "\n",
    "    - Test\n",
    "    TP : 2775 TN: 264 FP : 1503 : FN : 143\n",
    "\n",
    "    Terlihat model semakin baik menangai FN nya dimana FN mengalami penurunan dari base Moeel\n",
    "\n",
    "\n",
    "    Recall:\n",
    "    Model mengalami perubahan dimana pada base model \n",
    "    model overfit namun setelah hyperparameter tunning model overfitt terlihat reccal train 95 dan recal test 95\n",
    "\n",
    "Untuk itu kita bisa menyimpulkan bahwa model Random Forrest yang terbaik sesuai objektif kita"
   ]
  }
 ],
 "metadata": {
  "interpreter": {
   "hash": "0cbc979dcc1613bbfa90f604463b284e74b881e455a04b3cbb4d496d10f6f9a9"
  },
  "kernelspec": {
   "display_name": "Python 3.9.12 ('Bootcamp')",
   "language": "python",
   "name": "python3"
  },
  "language_info": {
   "codemirror_mode": {
    "name": "ipython",
    "version": 3
   },
   "file_extension": ".py",
   "mimetype": "text/x-python",
   "name": "python",
   "nbconvert_exporter": "python",
   "pygments_lexer": "ipython3",
   "version": "3.9.12"
  },
  "orig_nbformat": 4
 },
 "nbformat": 4,
 "nbformat_minor": 2
}
